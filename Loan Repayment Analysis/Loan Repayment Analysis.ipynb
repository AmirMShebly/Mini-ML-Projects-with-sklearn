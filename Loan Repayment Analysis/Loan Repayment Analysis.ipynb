{
 "cells": [
  {
   "cell_type": "code",
   "execution_count": 1,
   "id": "fff1e552",
   "metadata": {},
   "outputs": [],
   "source": [
    "import numpy as np\n",
    "import pandas as pd\n",
    "import matplotlib.pyplot as plt\n",
    "import seaborn as sns\n",
    "\n",
    "import random\n",
    "\n",
    "from sklearn.model_selection import train_test_split\n",
    "from sklearn.preprocessing import MinMaxScaler\n",
    "\n",
    "from sklearn.linear_model import LogisticRegression\n",
    "from sklearn.neighbors import KNeighborsClassifier\n",
    "from sklearn.tree import DecisionTreeClassifier\n",
    "from sklearn.svm import SVC\n",
    "from sklearn.ensemble import AdaBoostClassifier, GradientBoostingClassifier, RandomForestClassifier\n",
    "\n",
    "import tensorflow as tf\n",
    "from tensorflow.keras.models import Sequential\n",
    "from tensorflow.keras.layers import Dense, Dropout\n",
    "\n",
    "from sklearn.metrics import classification_report, confusion_matrix"
   ]
  },
  {
   "cell_type": "markdown",
   "id": "738c1ab6",
   "metadata": {},
   "source": [
    "**Dataset**"
   ]
  },
  {
   "cell_type": "markdown",
   "id": "affbd78d",
   "metadata": {},
   "source": [
    "https://www.kaggle.com/wordsforthewise/lending-club"
   ]
  },
  {
   "cell_type": "markdown",
   "id": "44cd24f1",
   "metadata": {},
   "source": [
    "**Features' information**"
   ]
  },
  {
   "cell_type": "code",
   "execution_count": 2,
   "id": "7263e590",
   "metadata": {},
   "outputs": [],
   "source": [
    "data_info = pd.read_csv('lending_club_info.csv', index_col='LoanStatNew')"
   ]
  },
  {
   "cell_type": "code",
   "execution_count": 3,
   "id": "b5faac04",
   "metadata": {},
   "outputs": [
    {
     "name": "stdout",
     "output_type": "stream",
     "text": [
      "Revolving line utilization rate, or the amount of credit the borrower is using relative to all available revolving credit.\n"
     ]
    }
   ],
   "source": [
    "print(data_info.loc['revol_util']['Description'])"
   ]
  },
  {
   "cell_type": "code",
   "execution_count": 4,
   "id": "803bba03",
   "metadata": {},
   "outputs": [],
   "source": [
    "def feature_info(col_name):\n",
    "    print(data_info.loc[col_name]['Description'])"
   ]
  },
  {
   "cell_type": "code",
   "execution_count": 5,
   "id": "cb4b0f0c",
   "metadata": {},
   "outputs": [
    {
     "name": "stdout",
     "output_type": "stream",
     "text": [
      "loan_amnt  : \n",
      "The listed amount of the loan applied for by the borrower. If at some point in time, the credit department reduces the loan amount, then it will be reflected in this value.\n",
      "\n",
      "\n",
      "term  : \n",
      "The number of payments on the loan. Values are in months and can be either 36 or 60.\n",
      "\n",
      "\n",
      "int_rate  : \n",
      "Interest Rate on the loan\n",
      "\n",
      "\n",
      "installment  : \n",
      "The monthly payment owed by the borrower if the loan originates.\n",
      "\n",
      "\n",
      "grade  : \n",
      "LC assigned loan grade\n",
      "\n",
      "\n",
      "sub_grade  : \n",
      "LC assigned loan subgrade\n",
      "\n",
      "\n",
      "emp_title  : \n",
      "The job title supplied by the Borrower when applying for the loan.*\n",
      "\n",
      "\n",
      "emp_length  : \n",
      "Employment length in years. Possible values are between 0 and 10 where 0 means less than one year and 10 means ten or more years. \n",
      "\n",
      "\n",
      "home_ownership  : \n",
      "The home ownership status provided by the borrower during registration or obtained from the credit report. Our values are: RENT, OWN, MORTGAGE, OTHER\n",
      "\n",
      "\n",
      "annual_inc  : \n",
      "The self-reported annual income provided by the borrower during registration.\n",
      "\n",
      "\n",
      "verification_status  : \n",
      "Indicates if income was verified by LC, not verified, or if the income source was verified\n",
      "\n",
      "\n",
      "issue_d  : \n",
      "The month which the loan was funded\n",
      "\n",
      "\n",
      "loan_status  : \n",
      "Current status of the loan\n",
      "\n",
      "\n",
      "purpose  : \n",
      "A category provided by the borrower for the loan request. \n",
      "\n",
      "\n",
      "title  : \n",
      "The loan title provided by the borrower\n",
      "\n",
      "\n",
      "zip_code  : \n",
      "The first 3 numbers of the zip code provided by the borrower in the loan application.\n",
      "\n",
      "\n",
      "addr_state  : \n",
      "The state provided by the borrower in the loan application\n",
      "\n",
      "\n",
      "dti  : \n",
      "A ratio calculated using the borrower’s total monthly debt payments on the total debt obligations, excluding mortgage and the requested LC loan, divided by the borrower’s self-reported monthly income.\n",
      "\n",
      "\n",
      "earliest_cr_line  : \n",
      "The month the borrower's earliest reported credit line was opened\n",
      "\n",
      "\n",
      "open_acc  : \n",
      "The number of open credit lines in the borrower's credit file.\n",
      "\n",
      "\n",
      "pub_rec  : \n",
      "Number of derogatory public records\n",
      "\n",
      "\n",
      "revol_bal  : \n",
      "Total credit revolving balance\n",
      "\n",
      "\n",
      "revol_util  : \n",
      "Revolving line utilization rate, or the amount of credit the borrower is using relative to all available revolving credit.\n",
      "\n",
      "\n",
      "total_acc  : \n",
      "The total number of credit lines currently in the borrower's credit file\n",
      "\n",
      "\n",
      "initial_list_status  : \n",
      "The initial listing status of the loan. Possible values are – W, F\n",
      "\n",
      "\n",
      "application_type  : \n",
      "Indicates whether the loan is an individual application or a joint application with two co-borrowers\n",
      "\n",
      "\n",
      "mort_acc  : \n",
      "Number of mortgage accounts.\n",
      "\n",
      "\n",
      "pub_rec_bankruptcies  : \n",
      "Number of public record bankruptcies\n",
      "\n",
      "\n"
     ]
    }
   ],
   "source": [
    "for i in data_info.index:\n",
    "    print(i, \" : \")\n",
    "    feature_info(i)\n",
    "    print('\\n')"
   ]
  },
  {
   "cell_type": "markdown",
   "id": "137aaa4a",
   "metadata": {},
   "source": [
    "**Loading the Dataset**"
   ]
  },
  {
   "cell_type": "code",
   "execution_count": 6,
   "id": "eee485aa",
   "metadata": {},
   "outputs": [],
   "source": [
    "data = pd.read_csv('lending_club_loan_two.csv')"
   ]
  },
  {
   "cell_type": "code",
   "execution_count": 7,
   "id": "41978e04",
   "metadata": {},
   "outputs": [
    {
     "data": {
      "text/html": [
       "<div>\n",
       "<style scoped>\n",
       "    .dataframe tbody tr th:only-of-type {\n",
       "        vertical-align: middle;\n",
       "    }\n",
       "\n",
       "    .dataframe tbody tr th {\n",
       "        vertical-align: top;\n",
       "    }\n",
       "\n",
       "    .dataframe thead th {\n",
       "        text-align: right;\n",
       "    }\n",
       "</style>\n",
       "<table border=\"1\" class=\"dataframe\">\n",
       "  <thead>\n",
       "    <tr style=\"text-align: right;\">\n",
       "      <th></th>\n",
       "      <th>loan_amnt</th>\n",
       "      <th>term</th>\n",
       "      <th>int_rate</th>\n",
       "      <th>installment</th>\n",
       "      <th>grade</th>\n",
       "      <th>sub_grade</th>\n",
       "      <th>emp_title</th>\n",
       "      <th>emp_length</th>\n",
       "      <th>home_ownership</th>\n",
       "      <th>annual_inc</th>\n",
       "      <th>...</th>\n",
       "      <th>open_acc</th>\n",
       "      <th>pub_rec</th>\n",
       "      <th>revol_bal</th>\n",
       "      <th>revol_util</th>\n",
       "      <th>total_acc</th>\n",
       "      <th>initial_list_status</th>\n",
       "      <th>application_type</th>\n",
       "      <th>mort_acc</th>\n",
       "      <th>pub_rec_bankruptcies</th>\n",
       "      <th>address</th>\n",
       "    </tr>\n",
       "  </thead>\n",
       "  <tbody>\n",
       "    <tr>\n",
       "      <th>0</th>\n",
       "      <td>10000.0</td>\n",
       "      <td>36 months</td>\n",
       "      <td>11.44</td>\n",
       "      <td>329.48</td>\n",
       "      <td>B</td>\n",
       "      <td>B4</td>\n",
       "      <td>Marketing</td>\n",
       "      <td>10+ years</td>\n",
       "      <td>RENT</td>\n",
       "      <td>117000.0</td>\n",
       "      <td>...</td>\n",
       "      <td>16.0</td>\n",
       "      <td>0.0</td>\n",
       "      <td>36369.0</td>\n",
       "      <td>41.8</td>\n",
       "      <td>25.0</td>\n",
       "      <td>w</td>\n",
       "      <td>INDIVIDUAL</td>\n",
       "      <td>0.0</td>\n",
       "      <td>0.0</td>\n",
       "      <td>0174 Michelle Gateway\\r\\nMendozaberg, OK 22690</td>\n",
       "    </tr>\n",
       "    <tr>\n",
       "      <th>1</th>\n",
       "      <td>8000.0</td>\n",
       "      <td>36 months</td>\n",
       "      <td>11.99</td>\n",
       "      <td>265.68</td>\n",
       "      <td>B</td>\n",
       "      <td>B5</td>\n",
       "      <td>Credit analyst</td>\n",
       "      <td>4 years</td>\n",
       "      <td>MORTGAGE</td>\n",
       "      <td>65000.0</td>\n",
       "      <td>...</td>\n",
       "      <td>17.0</td>\n",
       "      <td>0.0</td>\n",
       "      <td>20131.0</td>\n",
       "      <td>53.3</td>\n",
       "      <td>27.0</td>\n",
       "      <td>f</td>\n",
       "      <td>INDIVIDUAL</td>\n",
       "      <td>3.0</td>\n",
       "      <td>0.0</td>\n",
       "      <td>1076 Carney Fort Apt. 347\\r\\nLoganmouth, SD 05113</td>\n",
       "    </tr>\n",
       "    <tr>\n",
       "      <th>2</th>\n",
       "      <td>15600.0</td>\n",
       "      <td>36 months</td>\n",
       "      <td>10.49</td>\n",
       "      <td>506.97</td>\n",
       "      <td>B</td>\n",
       "      <td>B3</td>\n",
       "      <td>Statistician</td>\n",
       "      <td>&lt; 1 year</td>\n",
       "      <td>RENT</td>\n",
       "      <td>43057.0</td>\n",
       "      <td>...</td>\n",
       "      <td>13.0</td>\n",
       "      <td>0.0</td>\n",
       "      <td>11987.0</td>\n",
       "      <td>92.2</td>\n",
       "      <td>26.0</td>\n",
       "      <td>f</td>\n",
       "      <td>INDIVIDUAL</td>\n",
       "      <td>0.0</td>\n",
       "      <td>0.0</td>\n",
       "      <td>87025 Mark Dale Apt. 269\\r\\nNew Sabrina, WV 05113</td>\n",
       "    </tr>\n",
       "    <tr>\n",
       "      <th>3</th>\n",
       "      <td>7200.0</td>\n",
       "      <td>36 months</td>\n",
       "      <td>6.49</td>\n",
       "      <td>220.65</td>\n",
       "      <td>A</td>\n",
       "      <td>A2</td>\n",
       "      <td>Client Advocate</td>\n",
       "      <td>6 years</td>\n",
       "      <td>RENT</td>\n",
       "      <td>54000.0</td>\n",
       "      <td>...</td>\n",
       "      <td>6.0</td>\n",
       "      <td>0.0</td>\n",
       "      <td>5472.0</td>\n",
       "      <td>21.5</td>\n",
       "      <td>13.0</td>\n",
       "      <td>f</td>\n",
       "      <td>INDIVIDUAL</td>\n",
       "      <td>0.0</td>\n",
       "      <td>0.0</td>\n",
       "      <td>823 Reid Ford\\r\\nDelacruzside, MA 00813</td>\n",
       "    </tr>\n",
       "    <tr>\n",
       "      <th>4</th>\n",
       "      <td>24375.0</td>\n",
       "      <td>60 months</td>\n",
       "      <td>17.27</td>\n",
       "      <td>609.33</td>\n",
       "      <td>C</td>\n",
       "      <td>C5</td>\n",
       "      <td>Destiny Management Inc.</td>\n",
       "      <td>9 years</td>\n",
       "      <td>MORTGAGE</td>\n",
       "      <td>55000.0</td>\n",
       "      <td>...</td>\n",
       "      <td>13.0</td>\n",
       "      <td>0.0</td>\n",
       "      <td>24584.0</td>\n",
       "      <td>69.8</td>\n",
       "      <td>43.0</td>\n",
       "      <td>f</td>\n",
       "      <td>INDIVIDUAL</td>\n",
       "      <td>1.0</td>\n",
       "      <td>0.0</td>\n",
       "      <td>679 Luna Roads\\r\\nGreggshire, VA 11650</td>\n",
       "    </tr>\n",
       "  </tbody>\n",
       "</table>\n",
       "<p>5 rows × 27 columns</p>\n",
       "</div>"
      ],
      "text/plain": [
       "   loan_amnt        term  int_rate  installment grade sub_grade  \\\n",
       "0    10000.0   36 months     11.44       329.48     B        B4   \n",
       "1     8000.0   36 months     11.99       265.68     B        B5   \n",
       "2    15600.0   36 months     10.49       506.97     B        B3   \n",
       "3     7200.0   36 months      6.49       220.65     A        A2   \n",
       "4    24375.0   60 months     17.27       609.33     C        C5   \n",
       "\n",
       "                 emp_title emp_length home_ownership  annual_inc  ...  \\\n",
       "0                Marketing  10+ years           RENT    117000.0  ...   \n",
       "1          Credit analyst     4 years       MORTGAGE     65000.0  ...   \n",
       "2             Statistician   < 1 year           RENT     43057.0  ...   \n",
       "3          Client Advocate    6 years           RENT     54000.0  ...   \n",
       "4  Destiny Management Inc.    9 years       MORTGAGE     55000.0  ...   \n",
       "\n",
       "  open_acc pub_rec revol_bal revol_util total_acc  initial_list_status  \\\n",
       "0     16.0     0.0   36369.0       41.8      25.0                    w   \n",
       "1     17.0     0.0   20131.0       53.3      27.0                    f   \n",
       "2     13.0     0.0   11987.0       92.2      26.0                    f   \n",
       "3      6.0     0.0    5472.0       21.5      13.0                    f   \n",
       "4     13.0     0.0   24584.0       69.8      43.0                    f   \n",
       "\n",
       "  application_type  mort_acc  pub_rec_bankruptcies  \\\n",
       "0       INDIVIDUAL       0.0                   0.0   \n",
       "1       INDIVIDUAL       3.0                   0.0   \n",
       "2       INDIVIDUAL       0.0                   0.0   \n",
       "3       INDIVIDUAL       0.0                   0.0   \n",
       "4       INDIVIDUAL       1.0                   0.0   \n",
       "\n",
       "                                             address  \n",
       "0     0174 Michelle Gateway\\r\\nMendozaberg, OK 22690  \n",
       "1  1076 Carney Fort Apt. 347\\r\\nLoganmouth, SD 05113  \n",
       "2  87025 Mark Dale Apt. 269\\r\\nNew Sabrina, WV 05113  \n",
       "3            823 Reid Ford\\r\\nDelacruzside, MA 00813  \n",
       "4             679 Luna Roads\\r\\nGreggshire, VA 11650  \n",
       "\n",
       "[5 rows x 27 columns]"
      ]
     },
     "execution_count": 7,
     "metadata": {},
     "output_type": "execute_result"
    }
   ],
   "source": [
    "data.head()"
   ]
  },
  {
   "cell_type": "code",
   "execution_count": 8,
   "id": "58739875",
   "metadata": {},
   "outputs": [
    {
     "name": "stdout",
     "output_type": "stream",
     "text": [
      "<class 'pandas.core.frame.DataFrame'>\n",
      "RangeIndex: 396030 entries, 0 to 396029\n",
      "Data columns (total 27 columns):\n",
      " #   Column                Non-Null Count   Dtype  \n",
      "---  ------                --------------   -----  \n",
      " 0   loan_amnt             396030 non-null  float64\n",
      " 1   term                  396030 non-null  object \n",
      " 2   int_rate              396030 non-null  float64\n",
      " 3   installment           396030 non-null  float64\n",
      " 4   grade                 396030 non-null  object \n",
      " 5   sub_grade             396030 non-null  object \n",
      " 6   emp_title             373103 non-null  object \n",
      " 7   emp_length            377729 non-null  object \n",
      " 8   home_ownership        396030 non-null  object \n",
      " 9   annual_inc            396030 non-null  float64\n",
      " 10  verification_status   396030 non-null  object \n",
      " 11  issue_d               396030 non-null  object \n",
      " 12  loan_status           396030 non-null  object \n",
      " 13  purpose               396030 non-null  object \n",
      " 14  title                 394275 non-null  object \n",
      " 15  dti                   396030 non-null  float64\n",
      " 16  earliest_cr_line      396030 non-null  object \n",
      " 17  open_acc              396030 non-null  float64\n",
      " 18  pub_rec               396030 non-null  float64\n",
      " 19  revol_bal             396030 non-null  float64\n",
      " 20  revol_util            395754 non-null  float64\n",
      " 21  total_acc             396030 non-null  float64\n",
      " 22  initial_list_status   396030 non-null  object \n",
      " 23  application_type      396030 non-null  object \n",
      " 24  mort_acc              358235 non-null  float64\n",
      " 25  pub_rec_bankruptcies  395495 non-null  float64\n",
      " 26  address               396030 non-null  object \n",
      "dtypes: float64(12), object(15)\n",
      "memory usage: 81.6+ MB\n"
     ]
    }
   ],
   "source": [
    "data.info()"
   ]
  },
  {
   "cell_type": "code",
   "execution_count": 9,
   "id": "67c835cb",
   "metadata": {},
   "outputs": [
    {
     "data": {
      "text/html": [
       "<div>\n",
       "<style scoped>\n",
       "    .dataframe tbody tr th:only-of-type {\n",
       "        vertical-align: middle;\n",
       "    }\n",
       "\n",
       "    .dataframe tbody tr th {\n",
       "        vertical-align: top;\n",
       "    }\n",
       "\n",
       "    .dataframe thead th {\n",
       "        text-align: right;\n",
       "    }\n",
       "</style>\n",
       "<table border=\"1\" class=\"dataframe\">\n",
       "  <thead>\n",
       "    <tr style=\"text-align: right;\">\n",
       "      <th></th>\n",
       "      <th>count</th>\n",
       "      <th>mean</th>\n",
       "      <th>std</th>\n",
       "      <th>min</th>\n",
       "      <th>25%</th>\n",
       "      <th>50%</th>\n",
       "      <th>75%</th>\n",
       "      <th>max</th>\n",
       "    </tr>\n",
       "  </thead>\n",
       "  <tbody>\n",
       "    <tr>\n",
       "      <th>loan_amnt</th>\n",
       "      <td>396030.0</td>\n",
       "      <td>14113.888089</td>\n",
       "      <td>8357.441341</td>\n",
       "      <td>500.00</td>\n",
       "      <td>8000.00</td>\n",
       "      <td>12000.00</td>\n",
       "      <td>20000.00</td>\n",
       "      <td>40000.00</td>\n",
       "    </tr>\n",
       "    <tr>\n",
       "      <th>int_rate</th>\n",
       "      <td>396030.0</td>\n",
       "      <td>13.639400</td>\n",
       "      <td>4.472157</td>\n",
       "      <td>5.32</td>\n",
       "      <td>10.49</td>\n",
       "      <td>13.33</td>\n",
       "      <td>16.49</td>\n",
       "      <td>30.99</td>\n",
       "    </tr>\n",
       "    <tr>\n",
       "      <th>installment</th>\n",
       "      <td>396030.0</td>\n",
       "      <td>431.849698</td>\n",
       "      <td>250.727790</td>\n",
       "      <td>16.08</td>\n",
       "      <td>250.33</td>\n",
       "      <td>375.43</td>\n",
       "      <td>567.30</td>\n",
       "      <td>1533.81</td>\n",
       "    </tr>\n",
       "    <tr>\n",
       "      <th>annual_inc</th>\n",
       "      <td>396030.0</td>\n",
       "      <td>74203.175798</td>\n",
       "      <td>61637.621158</td>\n",
       "      <td>0.00</td>\n",
       "      <td>45000.00</td>\n",
       "      <td>64000.00</td>\n",
       "      <td>90000.00</td>\n",
       "      <td>8706582.00</td>\n",
       "    </tr>\n",
       "    <tr>\n",
       "      <th>dti</th>\n",
       "      <td>396030.0</td>\n",
       "      <td>17.379514</td>\n",
       "      <td>18.019092</td>\n",
       "      <td>0.00</td>\n",
       "      <td>11.28</td>\n",
       "      <td>16.91</td>\n",
       "      <td>22.98</td>\n",
       "      <td>9999.00</td>\n",
       "    </tr>\n",
       "    <tr>\n",
       "      <th>open_acc</th>\n",
       "      <td>396030.0</td>\n",
       "      <td>11.311153</td>\n",
       "      <td>5.137649</td>\n",
       "      <td>0.00</td>\n",
       "      <td>8.00</td>\n",
       "      <td>10.00</td>\n",
       "      <td>14.00</td>\n",
       "      <td>90.00</td>\n",
       "    </tr>\n",
       "    <tr>\n",
       "      <th>pub_rec</th>\n",
       "      <td>396030.0</td>\n",
       "      <td>0.178191</td>\n",
       "      <td>0.530671</td>\n",
       "      <td>0.00</td>\n",
       "      <td>0.00</td>\n",
       "      <td>0.00</td>\n",
       "      <td>0.00</td>\n",
       "      <td>86.00</td>\n",
       "    </tr>\n",
       "    <tr>\n",
       "      <th>revol_bal</th>\n",
       "      <td>396030.0</td>\n",
       "      <td>15844.539853</td>\n",
       "      <td>20591.836109</td>\n",
       "      <td>0.00</td>\n",
       "      <td>6025.00</td>\n",
       "      <td>11181.00</td>\n",
       "      <td>19620.00</td>\n",
       "      <td>1743266.00</td>\n",
       "    </tr>\n",
       "    <tr>\n",
       "      <th>revol_util</th>\n",
       "      <td>395754.0</td>\n",
       "      <td>53.791749</td>\n",
       "      <td>24.452193</td>\n",
       "      <td>0.00</td>\n",
       "      <td>35.80</td>\n",
       "      <td>54.80</td>\n",
       "      <td>72.90</td>\n",
       "      <td>892.30</td>\n",
       "    </tr>\n",
       "    <tr>\n",
       "      <th>total_acc</th>\n",
       "      <td>396030.0</td>\n",
       "      <td>25.414744</td>\n",
       "      <td>11.886991</td>\n",
       "      <td>2.00</td>\n",
       "      <td>17.00</td>\n",
       "      <td>24.00</td>\n",
       "      <td>32.00</td>\n",
       "      <td>151.00</td>\n",
       "    </tr>\n",
       "    <tr>\n",
       "      <th>mort_acc</th>\n",
       "      <td>358235.0</td>\n",
       "      <td>1.813991</td>\n",
       "      <td>2.147930</td>\n",
       "      <td>0.00</td>\n",
       "      <td>0.00</td>\n",
       "      <td>1.00</td>\n",
       "      <td>3.00</td>\n",
       "      <td>34.00</td>\n",
       "    </tr>\n",
       "    <tr>\n",
       "      <th>pub_rec_bankruptcies</th>\n",
       "      <td>395495.0</td>\n",
       "      <td>0.121648</td>\n",
       "      <td>0.356174</td>\n",
       "      <td>0.00</td>\n",
       "      <td>0.00</td>\n",
       "      <td>0.00</td>\n",
       "      <td>0.00</td>\n",
       "      <td>8.00</td>\n",
       "    </tr>\n",
       "  </tbody>\n",
       "</table>\n",
       "</div>"
      ],
      "text/plain": [
       "                         count          mean           std     min       25%  \\\n",
       "loan_amnt             396030.0  14113.888089   8357.441341  500.00   8000.00   \n",
       "int_rate              396030.0     13.639400      4.472157    5.32     10.49   \n",
       "installment           396030.0    431.849698    250.727790   16.08    250.33   \n",
       "annual_inc            396030.0  74203.175798  61637.621158    0.00  45000.00   \n",
       "dti                   396030.0     17.379514     18.019092    0.00     11.28   \n",
       "open_acc              396030.0     11.311153      5.137649    0.00      8.00   \n",
       "pub_rec               396030.0      0.178191      0.530671    0.00      0.00   \n",
       "revol_bal             396030.0  15844.539853  20591.836109    0.00   6025.00   \n",
       "revol_util            395754.0     53.791749     24.452193    0.00     35.80   \n",
       "total_acc             396030.0     25.414744     11.886991    2.00     17.00   \n",
       "mort_acc              358235.0      1.813991      2.147930    0.00      0.00   \n",
       "pub_rec_bankruptcies  395495.0      0.121648      0.356174    0.00      0.00   \n",
       "\n",
       "                           50%       75%         max  \n",
       "loan_amnt             12000.00  20000.00    40000.00  \n",
       "int_rate                 13.33     16.49       30.99  \n",
       "installment             375.43    567.30     1533.81  \n",
       "annual_inc            64000.00  90000.00  8706582.00  \n",
       "dti                      16.91     22.98     9999.00  \n",
       "open_acc                 10.00     14.00       90.00  \n",
       "pub_rec                   0.00      0.00       86.00  \n",
       "revol_bal             11181.00  19620.00  1743266.00  \n",
       "revol_util               54.80     72.90      892.30  \n",
       "total_acc                24.00     32.00      151.00  \n",
       "mort_acc                  1.00      3.00       34.00  \n",
       "pub_rec_bankruptcies      0.00      0.00        8.00  "
      ]
     },
     "execution_count": 9,
     "metadata": {},
     "output_type": "execute_result"
    }
   ],
   "source": [
    "data.describe().transpose()"
   ]
  },
  {
   "cell_type": "code",
   "execution_count": 10,
   "id": "5d662d51",
   "metadata": {},
   "outputs": [
    {
     "data": {
      "text/plain": [
       "loan_amnt                   0\n",
       "term                        0\n",
       "int_rate                    0\n",
       "installment                 0\n",
       "grade                       0\n",
       "sub_grade                   0\n",
       "emp_title               22927\n",
       "emp_length              18301\n",
       "home_ownership              0\n",
       "annual_inc                  0\n",
       "verification_status         0\n",
       "issue_d                     0\n",
       "loan_status                 0\n",
       "purpose                     0\n",
       "title                    1755\n",
       "dti                         0\n",
       "earliest_cr_line            0\n",
       "open_acc                    0\n",
       "pub_rec                     0\n",
       "revol_bal                   0\n",
       "revol_util                276\n",
       "total_acc                   0\n",
       "initial_list_status         0\n",
       "application_type            0\n",
       "mort_acc                37795\n",
       "pub_rec_bankruptcies      535\n",
       "address                     0\n",
       "dtype: int64"
      ]
     },
     "execution_count": 10,
     "metadata": {},
     "output_type": "execute_result"
    }
   ],
   "source": [
    "data.isnull().sum()"
   ]
  },
  {
   "cell_type": "markdown",
   "id": "deb5a78c",
   "metadata": {},
   "source": [
    "There are some null values which will be problamatic\n",
    "I'll address this later"
   ]
  },
  {
   "cell_type": "markdown",
   "id": "57b83386",
   "metadata": {},
   "source": [
    "**EDA**"
   ]
  },
  {
   "cell_type": "code",
   "execution_count": 11,
   "id": "0e5b870c",
   "metadata": {},
   "outputs": [
    {
     "data": {
      "text/plain": [
       "<AxesSubplot:xlabel='loan_status', ylabel='count'>"
      ]
     },
     "execution_count": 11,
     "metadata": {},
     "output_type": "execute_result"
    },
    {
     "data": {
      "image/png": "[encoded data removed]",
      "text/plain": [
       "<Figure size 640x480 with 1 Axes>"
      ]
     },
     "metadata": {},
     "output_type": "display_data"
    }
   ],
   "source": [
    "sns.countplot(x='loan_status', data=data)"
   ]
  },
  {
   "cell_type": "markdown",
   "id": "0cf802b7",
   "metadata": {},
   "source": [
    "This is obviously imbalance which might cause our model to overfit the fully paid class"
   ]
  },
  {
   "cell_type": "code",
   "execution_count": 12,
   "id": "fb729fe5",
   "metadata": {},
   "outputs": [
    {
     "data": {
      "text/plain": [
       "<AxesSubplot:xlabel='loan_amnt', ylabel='Count'>"
      ]
     },
     "execution_count": 12,
     "metadata": {},
     "output_type": "execute_result"
    },
    {
     "data": {
      "image/png": "[encoded data removed]",
      "text/plain": [
       "<Figure size 640x480 with 1 Axes>"
      ]
     },
     "metadata": {},
     "output_type": "display_data"
    }
   ],
   "source": [
    "sns.histplot(data['loan_amnt'])"
   ]
  },
  {
   "cell_type": "markdown",
   "id": "0ac2a64c",
   "metadata": {},
   "source": [
    "Checking the correlaation between features"
   ]
  },
  {
   "cell_type": "code",
   "execution_count": 13,
   "id": "fdde027d",
   "metadata": {},
   "outputs": [
    {
     "data": {
      "text/html": [
       "<div>\n",
       "<style scoped>\n",
       "    .dataframe tbody tr th:only-of-type {\n",
       "        vertical-align: middle;\n",
       "    }\n",
       "\n",
       "    .dataframe tbody tr th {\n",
       "        vertical-align: top;\n",
       "    }\n",
       "\n",
       "    .dataframe thead th {\n",
       "        text-align: right;\n",
       "    }\n",
       "</style>\n",
       "<table border=\"1\" class=\"dataframe\">\n",
       "  <thead>\n",
       "    <tr style=\"text-align: right;\">\n",
       "      <th></th>\n",
       "      <th>loan_amnt</th>\n",
       "      <th>int_rate</th>\n",
       "      <th>installment</th>\n",
       "      <th>annual_inc</th>\n",
       "      <th>dti</th>\n",
       "      <th>open_acc</th>\n",
       "      <th>pub_rec</th>\n",
       "      <th>revol_bal</th>\n",
       "      <th>revol_util</th>\n",
       "      <th>total_acc</th>\n",
       "      <th>mort_acc</th>\n",
       "      <th>pub_rec_bankruptcies</th>\n",
       "    </tr>\n",
       "  </thead>\n",
       "  <tbody>\n",
       "    <tr>\n",
       "      <th>loan_amnt</th>\n",
       "      <td>1.000000</td>\n",
       "      <td>0.168921</td>\n",
       "      <td>0.953929</td>\n",
       "      <td>0.336887</td>\n",
       "      <td>0.016636</td>\n",
       "      <td>0.198556</td>\n",
       "      <td>-0.077779</td>\n",
       "      <td>0.328320</td>\n",
       "      <td>0.099911</td>\n",
       "      <td>0.223886</td>\n",
       "      <td>0.222315</td>\n",
       "      <td>-0.106539</td>\n",
       "    </tr>\n",
       "    <tr>\n",
       "      <th>int_rate</th>\n",
       "      <td>0.168921</td>\n",
       "      <td>1.000000</td>\n",
       "      <td>0.162758</td>\n",
       "      <td>-0.056771</td>\n",
       "      <td>0.079038</td>\n",
       "      <td>0.011649</td>\n",
       "      <td>0.060986</td>\n",
       "      <td>-0.011280</td>\n",
       "      <td>0.293659</td>\n",
       "      <td>-0.036404</td>\n",
       "      <td>-0.082583</td>\n",
       "      <td>0.057450</td>\n",
       "    </tr>\n",
       "    <tr>\n",
       "      <th>installment</th>\n",
       "      <td>0.953929</td>\n",
       "      <td>0.162758</td>\n",
       "      <td>1.000000</td>\n",
       "      <td>0.330381</td>\n",
       "      <td>0.015786</td>\n",
       "      <td>0.188973</td>\n",
       "      <td>-0.067892</td>\n",
       "      <td>0.316455</td>\n",
       "      <td>0.123915</td>\n",
       "      <td>0.202430</td>\n",
       "      <td>0.193694</td>\n",
       "      <td>-0.098628</td>\n",
       "    </tr>\n",
       "    <tr>\n",
       "      <th>annual_inc</th>\n",
       "      <td>0.336887</td>\n",
       "      <td>-0.056771</td>\n",
       "      <td>0.330381</td>\n",
       "      <td>1.000000</td>\n",
       "      <td>-0.081685</td>\n",
       "      <td>0.136150</td>\n",
       "      <td>-0.013720</td>\n",
       "      <td>0.299773</td>\n",
       "      <td>0.027871</td>\n",
       "      <td>0.193023</td>\n",
       "      <td>0.236320</td>\n",
       "      <td>-0.050162</td>\n",
       "    </tr>\n",
       "    <tr>\n",
       "      <th>dti</th>\n",
       "      <td>0.016636</td>\n",
       "      <td>0.079038</td>\n",
       "      <td>0.015786</td>\n",
       "      <td>-0.081685</td>\n",
       "      <td>1.000000</td>\n",
       "      <td>0.136181</td>\n",
       "      <td>-0.017639</td>\n",
       "      <td>0.063571</td>\n",
       "      <td>0.088375</td>\n",
       "      <td>0.102128</td>\n",
       "      <td>-0.025439</td>\n",
       "      <td>-0.014558</td>\n",
       "    </tr>\n",
       "    <tr>\n",
       "      <th>open_acc</th>\n",
       "      <td>0.198556</td>\n",
       "      <td>0.011649</td>\n",
       "      <td>0.188973</td>\n",
       "      <td>0.136150</td>\n",
       "      <td>0.136181</td>\n",
       "      <td>1.000000</td>\n",
       "      <td>-0.018392</td>\n",
       "      <td>0.221192</td>\n",
       "      <td>-0.131420</td>\n",
       "      <td>0.680728</td>\n",
       "      <td>0.109205</td>\n",
       "      <td>-0.027732</td>\n",
       "    </tr>\n",
       "    <tr>\n",
       "      <th>pub_rec</th>\n",
       "      <td>-0.077779</td>\n",
       "      <td>0.060986</td>\n",
       "      <td>-0.067892</td>\n",
       "      <td>-0.013720</td>\n",
       "      <td>-0.017639</td>\n",
       "      <td>-0.018392</td>\n",
       "      <td>1.000000</td>\n",
       "      <td>-0.101664</td>\n",
       "      <td>-0.075910</td>\n",
       "      <td>0.019723</td>\n",
       "      <td>0.011552</td>\n",
       "      <td>0.699408</td>\n",
       "    </tr>\n",
       "    <tr>\n",
       "      <th>revol_bal</th>\n",
       "      <td>0.328320</td>\n",
       "      <td>-0.011280</td>\n",
       "      <td>0.316455</td>\n",
       "      <td>0.299773</td>\n",
       "      <td>0.063571</td>\n",
       "      <td>0.221192</td>\n",
       "      <td>-0.101664</td>\n",
       "      <td>1.000000</td>\n",
       "      <td>0.226346</td>\n",
       "      <td>0.191616</td>\n",
       "      <td>0.194925</td>\n",
       "      <td>-0.124532</td>\n",
       "    </tr>\n",
       "    <tr>\n",
       "      <th>revol_util</th>\n",
       "      <td>0.099911</td>\n",
       "      <td>0.293659</td>\n",
       "      <td>0.123915</td>\n",
       "      <td>0.027871</td>\n",
       "      <td>0.088375</td>\n",
       "      <td>-0.131420</td>\n",
       "      <td>-0.075910</td>\n",
       "      <td>0.226346</td>\n",
       "      <td>1.000000</td>\n",
       "      <td>-0.104273</td>\n",
       "      <td>0.007514</td>\n",
       "      <td>-0.086751</td>\n",
       "    </tr>\n",
       "    <tr>\n",
       "      <th>total_acc</th>\n",
       "      <td>0.223886</td>\n",
       "      <td>-0.036404</td>\n",
       "      <td>0.202430</td>\n",
       "      <td>0.193023</td>\n",
       "      <td>0.102128</td>\n",
       "      <td>0.680728</td>\n",
       "      <td>0.019723</td>\n",
       "      <td>0.191616</td>\n",
       "      <td>-0.104273</td>\n",
       "      <td>1.000000</td>\n",
       "      <td>0.381072</td>\n",
       "      <td>0.042035</td>\n",
       "    </tr>\n",
       "    <tr>\n",
       "      <th>mort_acc</th>\n",
       "      <td>0.222315</td>\n",
       "      <td>-0.082583</td>\n",
       "      <td>0.193694</td>\n",
       "      <td>0.236320</td>\n",
       "      <td>-0.025439</td>\n",
       "      <td>0.109205</td>\n",
       "      <td>0.011552</td>\n",
       "      <td>0.194925</td>\n",
       "      <td>0.007514</td>\n",
       "      <td>0.381072</td>\n",
       "      <td>1.000000</td>\n",
       "      <td>0.027239</td>\n",
       "    </tr>\n",
       "    <tr>\n",
       "      <th>pub_rec_bankruptcies</th>\n",
       "      <td>-0.106539</td>\n",
       "      <td>0.057450</td>\n",
       "      <td>-0.098628</td>\n",
       "      <td>-0.050162</td>\n",
       "      <td>-0.014558</td>\n",
       "      <td>-0.027732</td>\n",
       "      <td>0.699408</td>\n",
       "      <td>-0.124532</td>\n",
       "      <td>-0.086751</td>\n",
       "      <td>0.042035</td>\n",
       "      <td>0.027239</td>\n",
       "      <td>1.000000</td>\n",
       "    </tr>\n",
       "  </tbody>\n",
       "</table>\n",
       "</div>"
      ],
      "text/plain": [
       "                      loan_amnt  int_rate  installment  annual_inc       dti  \\\n",
       "loan_amnt              1.000000  0.168921     0.953929    0.336887  0.016636   \n",
       "int_rate               0.168921  1.000000     0.162758   -0.056771  0.079038   \n",
       "installment            0.953929  0.162758     1.000000    0.330381  0.015786   \n",
       "annual_inc             0.336887 -0.056771     0.330381    1.000000 -0.081685   \n",
       "dti                    0.016636  0.079038     0.015786   -0.081685  1.000000   \n",
       "open_acc               0.198556  0.011649     0.188973    0.136150  0.136181   \n",
       "pub_rec               -0.077779  0.060986    -0.067892   -0.013720 -0.017639   \n",
       "revol_bal              0.328320 -0.011280     0.316455    0.299773  0.063571   \n",
       "revol_util             0.099911  0.293659     0.123915    0.027871  0.088375   \n",
       "total_acc              0.223886 -0.036404     0.202430    0.193023  0.102128   \n",
       "mort_acc               0.222315 -0.082583     0.193694    0.236320 -0.025439   \n",
       "pub_rec_bankruptcies  -0.106539  0.057450    -0.098628   -0.050162 -0.014558   \n",
       "\n",
       "                      open_acc   pub_rec  revol_bal  revol_util  total_acc  \\\n",
       "loan_amnt             0.198556 -0.077779   0.328320    0.099911   0.223886   \n",
       "int_rate              0.011649  0.060986  -0.011280    0.293659  -0.036404   \n",
       "installment           0.188973 -0.067892   0.316455    0.123915   0.202430   \n",
       "annual_inc            0.136150 -0.013720   0.299773    0.027871   0.193023   \n",
       "dti                   0.136181 -0.017639   0.063571    0.088375   0.102128   \n",
       "open_acc              1.000000 -0.018392   0.221192   -0.131420   0.680728   \n",
       "pub_rec              -0.018392  1.000000  -0.101664   -0.075910   0.019723   \n",
       "revol_bal             0.221192 -0.101664   1.000000    0.226346   0.191616   \n",
       "revol_util           -0.131420 -0.075910   0.226346    1.000000  -0.104273   \n",
       "total_acc             0.680728  0.019723   0.191616   -0.104273   1.000000   \n",
       "mort_acc              0.109205  0.011552   0.194925    0.007514   0.381072   \n",
       "pub_rec_bankruptcies -0.027732  0.699408  -0.124532   -0.086751   0.042035   \n",
       "\n",
       "                      mort_acc  pub_rec_bankruptcies  \n",
       "loan_amnt             0.222315             -0.106539  \n",
       "int_rate             -0.082583              0.057450  \n",
       "installment           0.193694             -0.098628  \n",
       "annual_inc            0.236320             -0.050162  \n",
       "dti                  -0.025439             -0.014558  \n",
       "open_acc              0.109205             -0.027732  \n",
       "pub_rec               0.011552              0.699408  \n",
       "revol_bal             0.194925             -0.124532  \n",
       "revol_util            0.007514             -0.086751  \n",
       "total_acc             0.381072              0.042035  \n",
       "mort_acc              1.000000              0.027239  \n",
       "pub_rec_bankruptcies  0.027239              1.000000  "
      ]
     },
     "execution_count": 13,
     "metadata": {},
     "output_type": "execute_result"
    }
   ],
   "source": [
    "data.corr()"
   ]
  },
  {
   "cell_type": "code",
   "execution_count": 14,
   "id": "8d6d5d24",
   "metadata": {},
   "outputs": [
    {
     "data": {
      "text/plain": [
       "<AxesSubplot:>"
      ]
     },
     "execution_count": 14,
     "metadata": {},
     "output_type": "execute_result"
    },
    {
     "data": {
      "image/png": "[encoded data removed]",
      "text/plain": [
       "<Figure size 640x480 with 2 Axes>"
      ]
     },
     "metadata": {},
     "output_type": "display_data"
    }
   ],
   "source": [
    "sns.heatmap(data.corr())"
   ]
  },
  {
   "cell_type": "markdown",
   "id": "ddb48ef4",
   "metadata": {},
   "source": [
    "For example, we can observe that installment and load_amnt are highly correlated\n",
    "We can explore this further"
   ]
  },
  {
   "cell_type": "code",
   "execution_count": 15,
   "id": "3aa02d81",
   "metadata": {},
   "outputs": [
    {
     "name": "stdout",
     "output_type": "stream",
     "text": [
      "installment: \n",
      "The monthly payment owed by the borrower if the loan originates.\n"
     ]
    }
   ],
   "source": [
    "print('installment: ')\n",
    "feature_info('installment')"
   ]
  },
  {
   "cell_type": "code",
   "execution_count": 16,
   "id": "64ef1e6d",
   "metadata": {},
   "outputs": [
    {
     "name": "stdout",
     "output_type": "stream",
     "text": [
      "loan_amnt: \n",
      "The listed amount of the loan applied for by the borrower. If at some point in time, the credit department reduces the loan amount, then it will be reflected in this value.\n"
     ]
    }
   ],
   "source": [
    "print('loan_amnt: ')\n",
    "feature_info('loan_amnt')"
   ]
  },
  {
   "cell_type": "code",
   "execution_count": 17,
   "id": "964c3690",
   "metadata": {},
   "outputs": [
    {
     "data": {
      "text/plain": [
       "<AxesSubplot:xlabel='installment', ylabel='loan_amnt'>"
      ]
     },
     "execution_count": 17,
     "metadata": {},
     "output_type": "execute_result"
    },
    {
     "data": {
      "image/png": "[encoded data removed]",
      "text/plain": [
       "<Figure size 640x480 with 1 Axes>"
      ]
     },
     "metadata": {},
     "output_type": "display_data"
    }
   ],
   "source": [
    "sns.scatterplot(x='installment', y='loan_amnt', data=data)"
   ]
  },
  {
   "cell_type": "code",
   "execution_count": 18,
   "id": "ca95a1d7",
   "metadata": {},
   "outputs": [
    {
     "data": {
      "text/plain": [
       "<AxesSubplot:xlabel='loan_status', ylabel='loan_amnt'>"
      ]
     },
     "execution_count": 18,
     "metadata": {},
     "output_type": "execute_result"
    },
    {
     "data": {
      "image/png": "[encoded data removed]",
      "text/plain": [
       "<Figure size 640x480 with 1 Axes>"
      ]
     },
     "metadata": {},
     "output_type": "display_data"
    }
   ],
   "source": [
    "sns.boxplot(x='loan_status', y='loan_amnt', data=data)"
   ]
  },
  {
   "cell_type": "code",
   "execution_count": 19,
   "id": "ca4ed957",
   "metadata": {},
   "outputs": [
    {
     "data": {
      "text/html": [
       "<div>\n",
       "<style scoped>\n",
       "    .dataframe tbody tr th:only-of-type {\n",
       "        vertical-align: middle;\n",
       "    }\n",
       "\n",
       "    .dataframe tbody tr th {\n",
       "        vertical-align: top;\n",
       "    }\n",
       "\n",
       "    .dataframe thead tr th {\n",
       "        text-align: left;\n",
       "    }\n",
       "\n",
       "    .dataframe thead tr:last-of-type th {\n",
       "        text-align: right;\n",
       "    }\n",
       "</style>\n",
       "<table border=\"1\" class=\"dataframe\">\n",
       "  <thead>\n",
       "    <tr>\n",
       "      <th></th>\n",
       "      <th colspan=\"8\" halign=\"left\">loan_amnt</th>\n",
       "      <th colspan=\"2\" halign=\"left\">int_rate</th>\n",
       "      <th>...</th>\n",
       "      <th colspan=\"2\" halign=\"left\">mort_acc</th>\n",
       "      <th colspan=\"8\" halign=\"left\">pub_rec_bankruptcies</th>\n",
       "    </tr>\n",
       "    <tr>\n",
       "      <th></th>\n",
       "      <th>count</th>\n",
       "      <th>mean</th>\n",
       "      <th>std</th>\n",
       "      <th>min</th>\n",
       "      <th>25%</th>\n",
       "      <th>50%</th>\n",
       "      <th>75%</th>\n",
       "      <th>max</th>\n",
       "      <th>count</th>\n",
       "      <th>mean</th>\n",
       "      <th>...</th>\n",
       "      <th>75%</th>\n",
       "      <th>max</th>\n",
       "      <th>count</th>\n",
       "      <th>mean</th>\n",
       "      <th>std</th>\n",
       "      <th>min</th>\n",
       "      <th>25%</th>\n",
       "      <th>50%</th>\n",
       "      <th>75%</th>\n",
       "      <th>max</th>\n",
       "    </tr>\n",
       "    <tr>\n",
       "      <th>loan_status</th>\n",
       "      <th></th>\n",
       "      <th></th>\n",
       "      <th></th>\n",
       "      <th></th>\n",
       "      <th></th>\n",
       "      <th></th>\n",
       "      <th></th>\n",
       "      <th></th>\n",
       "      <th></th>\n",
       "      <th></th>\n",
       "      <th></th>\n",
       "      <th></th>\n",
       "      <th></th>\n",
       "      <th></th>\n",
       "      <th></th>\n",
       "      <th></th>\n",
       "      <th></th>\n",
       "      <th></th>\n",
       "      <th></th>\n",
       "      <th></th>\n",
       "      <th></th>\n",
       "    </tr>\n",
       "  </thead>\n",
       "  <tbody>\n",
       "    <tr>\n",
       "      <th>Charged Off</th>\n",
       "      <td>77673.0</td>\n",
       "      <td>15126.300967</td>\n",
       "      <td>8505.090557</td>\n",
       "      <td>1000.0</td>\n",
       "      <td>8525.0</td>\n",
       "      <td>14000.0</td>\n",
       "      <td>20000.0</td>\n",
       "      <td>40000.0</td>\n",
       "      <td>77673.0</td>\n",
       "      <td>15.882587</td>\n",
       "      <td>...</td>\n",
       "      <td>2.0</td>\n",
       "      <td>23.0</td>\n",
       "      <td>77586.0</td>\n",
       "      <td>0.128412</td>\n",
       "      <td>0.368853</td>\n",
       "      <td>0.0</td>\n",
       "      <td>0.0</td>\n",
       "      <td>0.0</td>\n",
       "      <td>0.0</td>\n",
       "      <td>8.0</td>\n",
       "    </tr>\n",
       "    <tr>\n",
       "      <th>Fully Paid</th>\n",
       "      <td>318357.0</td>\n",
       "      <td>13866.878771</td>\n",
       "      <td>8302.319699</td>\n",
       "      <td>500.0</td>\n",
       "      <td>7500.0</td>\n",
       "      <td>12000.0</td>\n",
       "      <td>19225.0</td>\n",
       "      <td>40000.0</td>\n",
       "      <td>318357.0</td>\n",
       "      <td>13.092105</td>\n",
       "      <td>...</td>\n",
       "      <td>3.0</td>\n",
       "      <td>34.0</td>\n",
       "      <td>317909.0</td>\n",
       "      <td>0.119997</td>\n",
       "      <td>0.352992</td>\n",
       "      <td>0.0</td>\n",
       "      <td>0.0</td>\n",
       "      <td>0.0</td>\n",
       "      <td>0.0</td>\n",
       "      <td>8.0</td>\n",
       "    </tr>\n",
       "  </tbody>\n",
       "</table>\n",
       "<p>2 rows × 96 columns</p>\n",
       "</div>"
      ],
      "text/plain": [
       "            loan_amnt                                                      \\\n",
       "                count          mean          std     min     25%      50%   \n",
       "loan_status                                                                 \n",
       "Charged Off   77673.0  15126.300967  8505.090557  1000.0  8525.0  14000.0   \n",
       "Fully Paid   318357.0  13866.878771  8302.319699   500.0  7500.0  12000.0   \n",
       "\n",
       "                               int_rate             ... mort_acc        \\\n",
       "                 75%      max     count       mean  ...      75%   max   \n",
       "loan_status                                         ...                  \n",
       "Charged Off  20000.0  40000.0   77673.0  15.882587  ...      2.0  23.0   \n",
       "Fully Paid   19225.0  40000.0  318357.0  13.092105  ...      3.0  34.0   \n",
       "\n",
       "            pub_rec_bankruptcies                                               \n",
       "                           count      mean       std  min  25%  50%  75%  max  \n",
       "loan_status                                                                    \n",
       "Charged Off              77586.0  0.128412  0.368853  0.0  0.0  0.0  0.0  8.0  \n",
       "Fully Paid              317909.0  0.119997  0.352992  0.0  0.0  0.0  0.0  8.0  \n",
       "\n",
       "[2 rows x 96 columns]"
      ]
     },
     "execution_count": 19,
     "metadata": {},
     "output_type": "execute_result"
    }
   ],
   "source": [
    "data.groupby('loan_status').describe()"
   ]
  },
  {
   "cell_type": "code",
   "execution_count": 20,
   "id": "992f2bcb",
   "metadata": {},
   "outputs": [
    {
     "data": {
      "text/html": [
       "<div>\n",
       "<style scoped>\n",
       "    .dataframe tbody tr th:only-of-type {\n",
       "        vertical-align: middle;\n",
       "    }\n",
       "\n",
       "    .dataframe tbody tr th {\n",
       "        vertical-align: top;\n",
       "    }\n",
       "\n",
       "    .dataframe thead th {\n",
       "        text-align: right;\n",
       "    }\n",
       "</style>\n",
       "<table border=\"1\" class=\"dataframe\">\n",
       "  <thead>\n",
       "    <tr style=\"text-align: right;\">\n",
       "      <th></th>\n",
       "      <th>count</th>\n",
       "      <th>mean</th>\n",
       "      <th>std</th>\n",
       "      <th>min</th>\n",
       "      <th>25%</th>\n",
       "      <th>50%</th>\n",
       "      <th>75%</th>\n",
       "      <th>max</th>\n",
       "    </tr>\n",
       "    <tr>\n",
       "      <th>loan_status</th>\n",
       "      <th></th>\n",
       "      <th></th>\n",
       "      <th></th>\n",
       "      <th></th>\n",
       "      <th></th>\n",
       "      <th></th>\n",
       "      <th></th>\n",
       "      <th></th>\n",
       "    </tr>\n",
       "  </thead>\n",
       "  <tbody>\n",
       "    <tr>\n",
       "      <th>Charged Off</th>\n",
       "      <td>77673.0</td>\n",
       "      <td>15126.300967</td>\n",
       "      <td>8505.090557</td>\n",
       "      <td>1000.0</td>\n",
       "      <td>8525.0</td>\n",
       "      <td>14000.0</td>\n",
       "      <td>20000.0</td>\n",
       "      <td>40000.0</td>\n",
       "    </tr>\n",
       "    <tr>\n",
       "      <th>Fully Paid</th>\n",
       "      <td>318357.0</td>\n",
       "      <td>13866.878771</td>\n",
       "      <td>8302.319699</td>\n",
       "      <td>500.0</td>\n",
       "      <td>7500.0</td>\n",
       "      <td>12000.0</td>\n",
       "      <td>19225.0</td>\n",
       "      <td>40000.0</td>\n",
       "    </tr>\n",
       "  </tbody>\n",
       "</table>\n",
       "</div>"
      ],
      "text/plain": [
       "                count          mean          std     min     25%      50%  \\\n",
       "loan_status                                                                 \n",
       "Charged Off   77673.0  15126.300967  8505.090557  1000.0  8525.0  14000.0   \n",
       "Fully Paid   318357.0  13866.878771  8302.319699   500.0  7500.0  12000.0   \n",
       "\n",
       "                 75%      max  \n",
       "loan_status                    \n",
       "Charged Off  20000.0  40000.0  \n",
       "Fully Paid   19225.0  40000.0  "
      ]
     },
     "execution_count": 20,
     "metadata": {},
     "output_type": "execute_result"
    }
   ],
   "source": [
    "data.groupby('loan_status')['loan_amnt'].describe()"
   ]
  },
  {
   "cell_type": "markdown",
   "id": "ffc03917",
   "metadata": {},
   "source": [
    "Exploring the grades and subgrades"
   ]
  },
  {
   "cell_type": "code",
   "execution_count": 21,
   "id": "185204fa",
   "metadata": {},
   "outputs": [
    {
     "data": {
      "text/plain": [
       "array(['B', 'A', 'C', 'E', 'D', 'F', 'G'], dtype=object)"
      ]
     },
     "execution_count": 21,
     "metadata": {},
     "output_type": "execute_result"
    }
   ],
   "source": [
    "data['grade'].unique()"
   ]
  },
  {
   "cell_type": "code",
   "execution_count": 22,
   "id": "b3a8a9dc",
   "metadata": {},
   "outputs": [
    {
     "data": {
      "text/plain": [
       "array(['B4', 'B5', 'B3', 'A2', 'C5', 'C3', 'A1', 'B2', 'C1', 'A5', 'E4',\n",
       "       'A4', 'A3', 'D1', 'C2', 'B1', 'D3', 'D5', 'D2', 'E1', 'E2', 'E5',\n",
       "       'F4', 'E3', 'D4', 'G1', 'F5', 'G2', 'C4', 'F1', 'F3', 'G5', 'G4',\n",
       "       'F2', 'G3'], dtype=object)"
      ]
     },
     "execution_count": 22,
     "metadata": {},
     "output_type": "execute_result"
    }
   ],
   "source": [
    "data['sub_grade'].unique()"
   ]
  },
  {
   "cell_type": "code",
   "execution_count": 23,
   "id": "630530a0",
   "metadata": {},
   "outputs": [
    {
     "name": "stdout",
     "output_type": "stream",
     "text": [
      "LC assigned loan subgrade\n"
     ]
    }
   ],
   "source": [
    "feature_info('sub_grade')"
   ]
  },
  {
   "cell_type": "code",
   "execution_count": 24,
   "id": "bd091efd",
   "metadata": {},
   "outputs": [
    {
     "data": {
      "text/plain": [
       "<AxesSubplot:xlabel='grade', ylabel='count'>"
      ]
     },
     "execution_count": 24,
     "metadata": {},
     "output_type": "execute_result"
    },
    {
     "data": {
      "image/png": "[encoded data removed]",
      "text/plain": [
       "<Figure size 640x480 with 1 Axes>"
      ]
     },
     "metadata": {},
     "output_type": "display_data"
    }
   ],
   "source": [
    "sns.countplot(x='grade', data=data, hue='loan_status')"
   ]
  },
  {
   "cell_type": "code",
   "execution_count": 25,
   "id": "78b0a0e5",
   "metadata": {},
   "outputs": [
    {
     "data": {
      "text/plain": [
       "<AxesSubplot:xlabel='sub_grade', ylabel='count'>"
      ]
     },
     "execution_count": 25,
     "metadata": {},
     "output_type": "execute_result"
    },
    {
     "data": {
      "image/png": "[encoded data removed]",
      "text/plain": [
       "<Figure size 1000x800 with 1 Axes>"
      ]
     },
     "metadata": {},
     "output_type": "display_data"
    }
   ],
   "source": [
    "plt.figure(figsize=(10, 8))\n",
    "sns.countplot(x='sub_grade', data=data, order=sorted(data['sub_grade'].unique()), palette='coolwarm', hue='loan_status')"
   ]
  },
  {
   "cell_type": "markdown",
   "id": "4cc97358",
   "metadata": {},
   "source": [
    "F and G subgrades are less likely to pay. "
   ]
  },
  {
   "cell_type": "markdown",
   "id": "3ce3b34d",
   "metadata": {},
   "source": [
    "**Determining the labels**"
   ]
  },
  {
   "cell_type": "code",
   "execution_count": 26,
   "id": "ad74609d",
   "metadata": {},
   "outputs": [],
   "source": [
    "data['loan_repaid'] = data['loan_status'].map({'Fully Paid': 1, 'Charged Off':0})"
   ]
  },
  {
   "cell_type": "code",
   "execution_count": 27,
   "id": "2e583486",
   "metadata": {},
   "outputs": [
    {
     "data": {
      "text/html": [
       "<div>\n",
       "<style scoped>\n",
       "    .dataframe tbody tr th:only-of-type {\n",
       "        vertical-align: middle;\n",
       "    }\n",
       "\n",
       "    .dataframe tbody tr th {\n",
       "        vertical-align: top;\n",
       "    }\n",
       "\n",
       "    .dataframe thead th {\n",
       "        text-align: right;\n",
       "    }\n",
       "</style>\n",
       "<table border=\"1\" class=\"dataframe\">\n",
       "  <thead>\n",
       "    <tr style=\"text-align: right;\">\n",
       "      <th></th>\n",
       "      <th>loan_repaid</th>\n",
       "      <th>loan_status</th>\n",
       "    </tr>\n",
       "  </thead>\n",
       "  <tbody>\n",
       "    <tr>\n",
       "      <th>0</th>\n",
       "      <td>1</td>\n",
       "      <td>Fully Paid</td>\n",
       "    </tr>\n",
       "    <tr>\n",
       "      <th>1</th>\n",
       "      <td>1</td>\n",
       "      <td>Fully Paid</td>\n",
       "    </tr>\n",
       "    <tr>\n",
       "      <th>2</th>\n",
       "      <td>1</td>\n",
       "      <td>Fully Paid</td>\n",
       "    </tr>\n",
       "    <tr>\n",
       "      <th>3</th>\n",
       "      <td>1</td>\n",
       "      <td>Fully Paid</td>\n",
       "    </tr>\n",
       "    <tr>\n",
       "      <th>4</th>\n",
       "      <td>0</td>\n",
       "      <td>Charged Off</td>\n",
       "    </tr>\n",
       "  </tbody>\n",
       "</table>\n",
       "</div>"
      ],
      "text/plain": [
       "   loan_repaid  loan_status\n",
       "0            1   Fully Paid\n",
       "1            1   Fully Paid\n",
       "2            1   Fully Paid\n",
       "3            1   Fully Paid\n",
       "4            0  Charged Off"
      ]
     },
     "execution_count": 27,
     "metadata": {},
     "output_type": "execute_result"
    }
   ],
   "source": [
    "data[['loan_repaid', 'loan_status']].head()"
   ]
  },
  {
   "cell_type": "markdown",
   "id": "7450f19b",
   "metadata": {},
   "source": [
    "Correlation of the features with the labels"
   ]
  },
  {
   "cell_type": "code",
   "execution_count": 28,
   "id": "19d15d43",
   "metadata": {},
   "outputs": [
    {
     "data": {
      "text/plain": [
       "<AxesSubplot:>"
      ]
     },
     "execution_count": 28,
     "metadata": {},
     "output_type": "execute_result"
    },
    {
     "data": {
      "image/png": "[encoded data removed]",
      "text/plain": [
       "<Figure size 640x480 with 1 Axes>"
      ]
     },
     "metadata": {},
     "output_type": "display_data"
    }
   ],
   "source": [
    "data.corr()['loan_repaid'].sort_values().drop('loan_repaid').plot(kind='bar')"
   ]
  },
  {
   "cell_type": "markdown",
   "id": "5921b168",
   "metadata": {},
   "source": [
    "**Handling null values**"
   ]
  },
  {
   "cell_type": "code",
   "execution_count": 29,
   "id": "f078609b",
   "metadata": {},
   "outputs": [
    {
     "data": {
      "text/plain": [
       "loan_amnt               0.000000\n",
       "term                    0.000000\n",
       "int_rate                0.000000\n",
       "installment             0.000000\n",
       "grade                   0.000000\n",
       "sub_grade               0.000000\n",
       "emp_title               5.789208\n",
       "emp_length              4.621115\n",
       "home_ownership          0.000000\n",
       "annual_inc              0.000000\n",
       "verification_status     0.000000\n",
       "issue_d                 0.000000\n",
       "loan_status             0.000000\n",
       "purpose                 0.000000\n",
       "title                   0.443148\n",
       "dti                     0.000000\n",
       "earliest_cr_line        0.000000\n",
       "open_acc                0.000000\n",
       "pub_rec                 0.000000\n",
       "revol_bal               0.000000\n",
       "revol_util              0.069692\n",
       "total_acc               0.000000\n",
       "initial_list_status     0.000000\n",
       "application_type        0.000000\n",
       "mort_acc                9.543469\n",
       "pub_rec_bankruptcies    0.135091\n",
       "address                 0.000000\n",
       "loan_repaid             0.000000\n",
       "dtype: float64"
      ]
     },
     "execution_count": 29,
     "metadata": {},
     "output_type": "execute_result"
    }
   ],
   "source": [
    "100 * data.isnull().sum() / len(data)"
   ]
  },
  {
   "cell_type": "code",
   "execution_count": 30,
   "id": "615009d1",
   "metadata": {},
   "outputs": [
    {
     "name": "stdout",
     "output_type": "stream",
     "text": [
      "The job title supplied by the Borrower when applying for the loan.*\n"
     ]
    }
   ],
   "source": [
    "feature_info('emp_title')"
   ]
  },
  {
   "cell_type": "code",
   "execution_count": 31,
   "id": "21ac76ab",
   "metadata": {},
   "outputs": [
    {
     "data": {
      "text/plain": [
       "173105"
      ]
     },
     "execution_count": 31,
     "metadata": {},
     "output_type": "execute_result"
    }
   ],
   "source": [
    "data['emp_title'].nunique()"
   ]
  },
  {
   "cell_type": "code",
   "execution_count": 32,
   "id": "60e8a785",
   "metadata": {},
   "outputs": [
    {
     "data": {
      "text/plain": [
       "Teacher                    4389\n",
       "Manager                    4250\n",
       "Registered Nurse           1856\n",
       "RN                         1846\n",
       "Supervisor                 1830\n",
       "                           ... \n",
       "Postman                       1\n",
       "McCarthy & Holthus, LLC       1\n",
       "jp flooring                   1\n",
       "Histology Technologist        1\n",
       "Gracon Services, Inc          1\n",
       "Name: emp_title, Length: 173105, dtype: int64"
      ]
     },
     "execution_count": 32,
     "metadata": {},
     "output_type": "execute_result"
    }
   ],
   "source": [
    "data['emp_title'].value_counts()"
   ]
  },
  {
   "cell_type": "markdown",
   "id": "d986e08a",
   "metadata": {},
   "source": [
    "There are lots of job titles.\n",
    "One hot categorizing these will not be an advantegous option\n",
    "We can either categorize them or remove them\n",
    "I'd rather remove this feature"
   ]
  },
  {
   "cell_type": "code",
   "execution_count": 33,
   "id": "7e6c7bb0",
   "metadata": {},
   "outputs": [],
   "source": [
    "data = data.drop('emp_title', axis=1)"
   ]
  },
  {
   "cell_type": "code",
   "execution_count": 34,
   "id": "ec4660d5",
   "metadata": {},
   "outputs": [
    {
     "data": {
      "text/plain": [
       "['1 year',\n",
       " '10+ years',\n",
       " '2 years',\n",
       " '3 years',\n",
       " '4 years',\n",
       " '5 years',\n",
       " '6 years',\n",
       " '7 years',\n",
       " '8 years',\n",
       " '9 years',\n",
       " '< 1 year']"
      ]
     },
     "execution_count": 34,
     "metadata": {},
     "output_type": "execute_result"
    }
   ],
   "source": [
    "sorted(data['emp_length'].dropna().unique())"
   ]
  },
  {
   "cell_type": "code",
   "execution_count": 35,
   "id": "e0b0200b",
   "metadata": {},
   "outputs": [],
   "source": [
    "emp_length_order = [\n",
    " '< 1 year', '1 year', '2 years', '3 years', '4 years', '5 years', '6 years', '7 years', '8 years', '9 years', '10+ years'\n",
    " ]"
   ]
  },
  {
   "cell_type": "code",
   "execution_count": 36,
   "id": "bf7cabf9",
   "metadata": {},
   "outputs": [
    {
     "data": {
      "text/plain": [
       "<AxesSubplot:xlabel='emp_length', ylabel='count'>"
      ]
     },
     "execution_count": 36,
     "metadata": {},
     "output_type": "execute_result"
    },
    {
     "data": {
      "image/png": "[encoded data removed]",
      "text/plain": [
       "<Figure size 1000x400 with 1 Axes>"
      ]
     },
     "metadata": {},
     "output_type": "display_data"
    }
   ],
   "source": [
    "plt.figure(figsize=(10, 4))\n",
    "sns.countplot(x='emp_length', data=data, order=emp_length_order)"
   ]
  },
  {
   "cell_type": "code",
   "execution_count": 37,
   "id": "c7c05594",
   "metadata": {},
   "outputs": [],
   "source": [
    "emp_chargedoff = data[data['loan_status']=='Charged Off'].groupby('emp_length').count()['loan_status']"
   ]
  },
  {
   "cell_type": "code",
   "execution_count": 38,
   "id": "39d33fde",
   "metadata": {},
   "outputs": [],
   "source": [
    "emp_fullypaid = data[data['loan_status']=='Fully Paid'].groupby('emp_length').count()['loan_status']"
   ]
  },
  {
   "cell_type": "code",
   "execution_count": 39,
   "id": "35492db5",
   "metadata": {},
   "outputs": [
    {
     "data": {
      "text/plain": [
       "emp_length\n",
       "1 year       0.199135\n",
       "10+ years    0.184186\n",
       "2 years      0.193262\n",
       "3 years      0.195231\n",
       "4 years      0.192385\n",
       "5 years      0.192187\n",
       "6 years      0.189194\n",
       "7 years      0.194774\n",
       "8 years      0.199760\n",
       "9 years      0.200470\n",
       "< 1 year     0.206872\n",
       "Name: loan_status, dtype: float64"
      ]
     },
     "execution_count": 39,
     "metadata": {},
     "output_type": "execute_result"
    }
   ],
   "source": [
    "emp_chargedoff / (emp_chargedoff + emp_fullypaid)"
   ]
  },
  {
   "cell_type": "code",
   "execution_count": 40,
   "id": "e1d8ffa3",
   "metadata": {},
   "outputs": [
    {
     "data": {
      "text/plain": [
       "<AxesSubplot:xlabel='emp_length'>"
      ]
     },
     "execution_count": 40,
     "metadata": {},
     "output_type": "execute_result"
    },
    {
     "data": {
      "image/png": "[encoded data removed]",
      "text/plain": [
       "<Figure size 640x480 with 1 Axes>"
      ]
     },
     "metadata": {},
     "output_type": "display_data"
    }
   ],
   "source": [
    "(emp_chargedoff / (emp_chargedoff + emp_fullypaid)).plot(kind='bar')"
   ]
  },
  {
   "cell_type": "markdown",
   "id": "b9ee987f",
   "metadata": {},
   "source": [
    "The feature seems not to be that informative and interesting .\n",
    "We can drop it"
   ]
  },
  {
   "cell_type": "code",
   "execution_count": 41,
   "id": "22ae832c",
   "metadata": {},
   "outputs": [],
   "source": [
    "data = data.drop('emp_length', axis=1)"
   ]
  },
  {
   "cell_type": "code",
   "execution_count": 42,
   "id": "d2d060dc",
   "metadata": {},
   "outputs": [
    {
     "data": {
      "text/plain": [
       "0              vacation\n",
       "1    debt_consolidation\n",
       "2           credit_card\n",
       "3           credit_card\n",
       "4           credit_card\n",
       "Name: purpose, dtype: object"
      ]
     },
     "execution_count": 42,
     "metadata": {},
     "output_type": "execute_result"
    }
   ],
   "source": [
    "data['purpose'].head()"
   ]
  },
  {
   "cell_type": "code",
   "execution_count": 43,
   "id": "3e38cebc",
   "metadata": {},
   "outputs": [
    {
     "data": {
      "text/plain": [
       "0                   Vacation\n",
       "1         Debt consolidation\n",
       "2    Credit card refinancing\n",
       "3    Credit card refinancing\n",
       "4      Credit Card Refinance\n",
       "Name: title, dtype: object"
      ]
     },
     "execution_count": 43,
     "metadata": {},
     "output_type": "execute_result"
    }
   ],
   "source": [
    "data['title'].head()"
   ]
  },
  {
   "cell_type": "code",
   "execution_count": 44,
   "id": "32d1faa5",
   "metadata": {},
   "outputs": [
    {
     "name": "stdout",
     "output_type": "stream",
     "text": [
      "A category provided by the borrower for the loan request. \n"
     ]
    }
   ],
   "source": [
    "feature_info('purpose')"
   ]
  },
  {
   "cell_type": "code",
   "execution_count": 45,
   "id": "c29522f5",
   "metadata": {},
   "outputs": [
    {
     "name": "stdout",
     "output_type": "stream",
     "text": [
      "The loan title provided by the borrower\n"
     ]
    }
   ],
   "source": [
    "feature_info('title')"
   ]
  },
  {
   "cell_type": "markdown",
   "id": "b0b6c430",
   "metadata": {},
   "source": [
    "title and purpose features are the same.\n",
    "We can drop title"
   ]
  },
  {
   "cell_type": "code",
   "execution_count": 46,
   "id": "aa834e69",
   "metadata": {},
   "outputs": [],
   "source": [
    "data = data.drop('title', axis=1)"
   ]
  },
  {
   "cell_type": "code",
   "execution_count": 47,
   "id": "fc90e41e",
   "metadata": {},
   "outputs": [
    {
     "name": "stdout",
     "output_type": "stream",
     "text": [
      "Number of mortgage accounts.\n"
     ]
    }
   ],
   "source": [
    "feature_info('mort_acc')"
   ]
  },
  {
   "cell_type": "code",
   "execution_count": 48,
   "id": "7415db8f",
   "metadata": {},
   "outputs": [
    {
     "data": {
      "text/plain": [
       "0.0     139777\n",
       "1.0      60416\n",
       "2.0      49948\n",
       "3.0      38049\n",
       "4.0      27887\n",
       "5.0      18194\n",
       "6.0      11069\n",
       "7.0       6052\n",
       "8.0       3121\n",
       "9.0       1656\n",
       "10.0       865\n",
       "11.0       479\n",
       "12.0       264\n",
       "13.0       146\n",
       "14.0       107\n",
       "15.0        61\n",
       "16.0        37\n",
       "17.0        22\n",
       "18.0        18\n",
       "19.0        15\n",
       "20.0        13\n",
       "24.0        10\n",
       "22.0         7\n",
       "21.0         4\n",
       "25.0         4\n",
       "27.0         3\n",
       "32.0         2\n",
       "31.0         2\n",
       "23.0         2\n",
       "26.0         2\n",
       "28.0         1\n",
       "30.0         1\n",
       "34.0         1\n",
       "Name: mort_acc, dtype: int64"
      ]
     },
     "execution_count": 48,
     "metadata": {},
     "output_type": "execute_result"
    }
   ],
   "source": [
    "data['mort_acc'].value_counts()"
   ]
  },
  {
   "cell_type": "markdown",
   "id": "4ef15c56",
   "metadata": {},
   "source": [
    "About 10 percent of all data are missing mort_acc feature so we can not drop the instances.\n",
    "We can either drop the feature itself or try to logically fill the values "
   ]
  },
  {
   "cell_type": "code",
   "execution_count": 49,
   "id": "13f0c145",
   "metadata": {},
   "outputs": [
    {
     "data": {
      "text/plain": [
       "int_rate               -0.082583\n",
       "dti                    -0.025439\n",
       "revol_util              0.007514\n",
       "pub_rec                 0.011552\n",
       "pub_rec_bankruptcies    0.027239\n",
       "loan_repaid             0.073111\n",
       "open_acc                0.109205\n",
       "installment             0.193694\n",
       "revol_bal               0.194925\n",
       "loan_amnt               0.222315\n",
       "annual_inc              0.236320\n",
       "total_acc               0.381072\n",
       "mort_acc                1.000000\n",
       "Name: mort_acc, dtype: float64"
      ]
     },
     "execution_count": 49,
     "metadata": {},
     "output_type": "execute_result"
    }
   ],
   "source": [
    "data.corr()['mort_acc'].sort_values()"
   ]
  },
  {
   "cell_type": "markdown",
   "id": "858e545f",
   "metadata": {},
   "source": [
    "toatal_acc seems to be correlated with mort_acc.\n",
    "We might be able to use this in order to fill in the null values"
   ]
  },
  {
   "cell_type": "code",
   "execution_count": 50,
   "id": "81ee2641",
   "metadata": {},
   "outputs": [
    {
     "data": {
      "text/plain": [
       "total_acc\n",
       "2.0      0.000000\n",
       "3.0      0.052023\n",
       "4.0      0.066743\n",
       "5.0      0.103289\n",
       "6.0      0.151293\n",
       "           ...   \n",
       "124.0    1.000000\n",
       "129.0    1.000000\n",
       "135.0    3.000000\n",
       "150.0    2.000000\n",
       "151.0    0.000000\n",
       "Name: mort_acc, Length: 118, dtype: float64"
      ]
     },
     "execution_count": 50,
     "metadata": {},
     "output_type": "execute_result"
    }
   ],
   "source": [
    "data.groupby('total_acc').mean()['mort_acc']"
   ]
  },
  {
   "cell_type": "markdown",
   "id": "b2339e02",
   "metadata": {},
   "source": [
    "We can use this series as a lookup and repalce missing mort_acc values based on the total_acc values and fill it \n",
    "with avergae value"
   ]
  },
  {
   "cell_type": "code",
   "execution_count": 51,
   "id": "b8ae89aa",
   "metadata": {},
   "outputs": [],
   "source": [
    "total_acc_average = data.groupby('total_acc').mean()['mort_acc']"
   ]
  },
  {
   "cell_type": "code",
   "execution_count": 52,
   "id": "f1235f4a",
   "metadata": {},
   "outputs": [],
   "source": [
    "def fill_mort_acc(total_acc, mort_acc):\n",
    "    if np.isnan(mort_acc):\n",
    "        return total_acc_average[total_acc]\n",
    "    else:\n",
    "        return mort_acc"
   ]
  },
  {
   "cell_type": "code",
   "execution_count": 53,
   "id": "1a6dd281",
   "metadata": {},
   "outputs": [],
   "source": [
    "data['mort_acc'] = data.apply(lambda x: fill_mort_acc(x['total_acc'], x['mort_acc']), axis=1)"
   ]
  },
  {
   "cell_type": "code",
   "execution_count": 54,
   "id": "be917354",
   "metadata": {},
   "outputs": [
    {
     "data": {
      "text/plain": [
       "loan_amnt               0.000000\n",
       "term                    0.000000\n",
       "int_rate                0.000000\n",
       "installment             0.000000\n",
       "grade                   0.000000\n",
       "sub_grade               0.000000\n",
       "home_ownership          0.000000\n",
       "annual_inc              0.000000\n",
       "verification_status     0.000000\n",
       "issue_d                 0.000000\n",
       "loan_status             0.000000\n",
       "purpose                 0.000000\n",
       "dti                     0.000000\n",
       "earliest_cr_line        0.000000\n",
       "open_acc                0.000000\n",
       "pub_rec                 0.000000\n",
       "revol_bal               0.000000\n",
       "revol_util              0.069692\n",
       "total_acc               0.000000\n",
       "initial_list_status     0.000000\n",
       "application_type        0.000000\n",
       "mort_acc                0.000000\n",
       "pub_rec_bankruptcies    0.135091\n",
       "address                 0.000000\n",
       "loan_repaid             0.000000\n",
       "dtype: float64"
      ]
     },
     "execution_count": 54,
     "metadata": {},
     "output_type": "execute_result"
    }
   ],
   "source": [
    "100 * data.isnull().sum() / len(data)"
   ]
  },
  {
   "cell_type": "markdown",
   "id": "66b2a396",
   "metadata": {},
   "source": [
    "revol_util and pub_rec_bankruptcies have a very small percentage of missing values so we can simply drop those instances"
   ]
  },
  {
   "cell_type": "code",
   "execution_count": 55,
   "id": "414a168a",
   "metadata": {},
   "outputs": [],
   "source": [
    "data = data.dropna()"
   ]
  },
  {
   "cell_type": "code",
   "execution_count": 56,
   "id": "15bbfcba",
   "metadata": {},
   "outputs": [
    {
     "data": {
      "text/plain": [
       "loan_amnt               0.0\n",
       "term                    0.0\n",
       "int_rate                0.0\n",
       "installment             0.0\n",
       "grade                   0.0\n",
       "sub_grade               0.0\n",
       "home_ownership          0.0\n",
       "annual_inc              0.0\n",
       "verification_status     0.0\n",
       "issue_d                 0.0\n",
       "loan_status             0.0\n",
       "purpose                 0.0\n",
       "dti                     0.0\n",
       "earliest_cr_line        0.0\n",
       "open_acc                0.0\n",
       "pub_rec                 0.0\n",
       "revol_bal               0.0\n",
       "revol_util              0.0\n",
       "total_acc               0.0\n",
       "initial_list_status     0.0\n",
       "application_type        0.0\n",
       "mort_acc                0.0\n",
       "pub_rec_bankruptcies    0.0\n",
       "address                 0.0\n",
       "loan_repaid             0.0\n",
       "dtype: float64"
      ]
     },
     "execution_count": 56,
     "metadata": {},
     "output_type": "execute_result"
    }
   ],
   "source": [
    "100 * data.isnull().sum() / len(data)"
   ]
  },
  {
   "cell_type": "markdown",
   "id": "9dc6315c",
   "metadata": {},
   "source": [
    "**Encoding Categorical Features**"
   ]
  },
  {
   "cell_type": "code",
   "execution_count": 57,
   "id": "3a7cb4f4",
   "metadata": {},
   "outputs": [
    {
     "data": {
      "text/plain": [
       "Index(['term', 'grade', 'sub_grade', 'home_ownership', 'verification_status',\n",
       "       'issue_d', 'loan_status', 'purpose', 'earliest_cr_line',\n",
       "       'initial_list_status', 'application_type', 'address'],\n",
       "      dtype='object')"
      ]
     },
     "execution_count": 57,
     "metadata": {},
     "output_type": "execute_result"
    }
   ],
   "source": [
    "data.select_dtypes(['object']).columns"
   ]
  },
  {
   "cell_type": "code",
   "execution_count": 58,
   "id": "8f9ebb21",
   "metadata": {},
   "outputs": [
    {
     "name": "stdout",
     "output_type": "stream",
     "text": [
      "The number of payments on the loan. Values are in months and can be either 36 or 60.\n"
     ]
    }
   ],
   "source": [
    "feature_info('term')"
   ]
  },
  {
   "cell_type": "code",
   "execution_count": 59,
   "id": "df4e420a",
   "metadata": {},
   "outputs": [
    {
     "data": {
      "text/plain": [
       " 36 months    301247\n",
       " 60 months     93972\n",
       "Name: term, dtype: int64"
      ]
     },
     "execution_count": 59,
     "metadata": {},
     "output_type": "execute_result"
    }
   ],
   "source": [
    "data['term'].value_counts()"
   ]
  },
  {
   "cell_type": "code",
   "execution_count": 60,
   "id": "5174e8fd",
   "metadata": {},
   "outputs": [],
   "source": [
    "data['term'] = data['term'].apply(lambda term: int(term[:3]))"
   ]
  },
  {
   "cell_type": "code",
   "execution_count": 61,
   "id": "ba6a06c5",
   "metadata": {},
   "outputs": [
    {
     "data": {
      "text/plain": [
       "0         36\n",
       "1         36\n",
       "2         36\n",
       "3         36\n",
       "4         60\n",
       "          ..\n",
       "396025    60\n",
       "396026    36\n",
       "396027    36\n",
       "396028    60\n",
       "396029    36\n",
       "Name: term, Length: 395219, dtype: int64"
      ]
     },
     "execution_count": 61,
     "metadata": {},
     "output_type": "execute_result"
    }
   ],
   "source": [
    "data['term']"
   ]
  },
  {
   "cell_type": "markdown",
   "id": "39f47c8f",
   "metadata": {},
   "source": [
    "Grade is a part of sub_grade. It is duplicate information and we can drop it"
   ]
  },
  {
   "cell_type": "code",
   "execution_count": 62,
   "id": "347531a9",
   "metadata": {},
   "outputs": [],
   "source": [
    "data = data.drop('grade', axis=1)"
   ]
  },
  {
   "cell_type": "code",
   "execution_count": 63,
   "id": "80462e29",
   "metadata": {},
   "outputs": [],
   "source": [
    "dummies = pd.get_dummies(data['sub_grade'], drop_first=True)\n",
    "\n",
    "data = pd.concat([data.drop('sub_grade', axis=1), dummies], axis=1)"
   ]
  },
  {
   "cell_type": "code",
   "execution_count": 64,
   "id": "847f24ca",
   "metadata": {},
   "outputs": [
    {
     "name": "stdout",
     "output_type": "stream",
     "text": [
      "Indicates if income was verified by LC, not verified, or if the income source was verified\n"
     ]
    }
   ],
   "source": [
    "feature_info('verification_status')"
   ]
  },
  {
   "cell_type": "code",
   "execution_count": 65,
   "id": "fb41a214",
   "metadata": {},
   "outputs": [
    {
     "data": {
      "text/plain": [
       "Verified           139451\n",
       "Source Verified    131301\n",
       "Not Verified       124467\n",
       "Name: verification_status, dtype: int64"
      ]
     },
     "execution_count": 65,
     "metadata": {},
     "output_type": "execute_result"
    }
   ],
   "source": [
    "data['verification_status'].value_counts()"
   ]
  },
  {
   "cell_type": "code",
   "execution_count": 66,
   "id": "025ed140",
   "metadata": {},
   "outputs": [],
   "source": [
    "dummies = pd.get_dummies(data['verification_status'], drop_first=True)\n",
    "\n",
    "data = pd.concat([data.drop('verification_status', axis=1), dummies], axis=1)"
   ]
  },
  {
   "cell_type": "code",
   "execution_count": 67,
   "id": "3735ebd2",
   "metadata": {},
   "outputs": [
    {
     "name": "stdout",
     "output_type": "stream",
     "text": [
      "Indicates whether the loan is an individual application or a joint application with two co-borrowers\n"
     ]
    }
   ],
   "source": [
    "feature_info('application_type')"
   ]
  },
  {
   "cell_type": "code",
   "execution_count": 68,
   "id": "5d53b6bd",
   "metadata": {},
   "outputs": [
    {
     "data": {
      "text/plain": [
       "INDIVIDUAL    394508\n",
       "JOINT            425\n",
       "DIRECT_PAY       286\n",
       "Name: application_type, dtype: int64"
      ]
     },
     "execution_count": 68,
     "metadata": {},
     "output_type": "execute_result"
    }
   ],
   "source": [
    "data['application_type'].value_counts()"
   ]
  },
  {
   "cell_type": "code",
   "execution_count": 69,
   "id": "fa89ea64",
   "metadata": {},
   "outputs": [],
   "source": [
    "dummies = pd.get_dummies(data['application_type'], drop_first=True)\n",
    "\n",
    "data = pd.concat([data.drop('application_type', axis=1), dummies], axis=1)"
   ]
  },
  {
   "cell_type": "code",
   "execution_count": 70,
   "id": "b501ec20",
   "metadata": {},
   "outputs": [
    {
     "name": "stdout",
     "output_type": "stream",
     "text": [
      "The initial listing status of the loan. Possible values are – W, F\n"
     ]
    }
   ],
   "source": [
    "feature_info('initial_list_status')"
   ]
  },
  {
   "cell_type": "code",
   "execution_count": 71,
   "id": "9939f223",
   "metadata": {},
   "outputs": [
    {
     "data": {
      "text/plain": [
       "f    237346\n",
       "w    157873\n",
       "Name: initial_list_status, dtype: int64"
      ]
     },
     "execution_count": 71,
     "metadata": {},
     "output_type": "execute_result"
    }
   ],
   "source": [
    "data['initial_list_status'].value_counts()"
   ]
  },
  {
   "cell_type": "code",
   "execution_count": 72,
   "id": "23dc1239",
   "metadata": {},
   "outputs": [],
   "source": [
    "dummies = pd.get_dummies(data['initial_list_status'], drop_first=True)\n",
    "\n",
    "data = pd.concat([data.drop('initial_list_status', axis=1), dummies], axis=1)"
   ]
  },
  {
   "cell_type": "code",
   "execution_count": 73,
   "id": "22714bb8",
   "metadata": {},
   "outputs": [
    {
     "name": "stdout",
     "output_type": "stream",
     "text": [
      "A category provided by the borrower for the loan request. \n"
     ]
    }
   ],
   "source": [
    "feature_info('purpose')"
   ]
  },
  {
   "cell_type": "code",
   "execution_count": 74,
   "id": "47aa67bf",
   "metadata": {},
   "outputs": [
    {
     "data": {
      "text/plain": [
       "debt_consolidation    234169\n",
       "credit_card            82923\n",
       "home_improvement       23961\n",
       "other                  21059\n",
       "major_purchase          8756\n",
       "small_business          5656\n",
       "car                     4670\n",
       "medical                 4175\n",
       "moving                  2842\n",
       "vacation                2442\n",
       "house                   2197\n",
       "wedding                 1794\n",
       "renewable_energy         329\n",
       "educational              246\n",
       "Name: purpose, dtype: int64"
      ]
     },
     "execution_count": 74,
     "metadata": {},
     "output_type": "execute_result"
    }
   ],
   "source": [
    "data['purpose'].value_counts()"
   ]
  },
  {
   "cell_type": "code",
   "execution_count": 75,
   "id": "371a85fb",
   "metadata": {},
   "outputs": [],
   "source": [
    "dummies = pd.get_dummies(data['purpose'], drop_first=True)\n",
    "\n",
    "data = pd.concat([data.drop('purpose', axis=1), dummies], axis=1)"
   ]
  },
  {
   "cell_type": "code",
   "execution_count": 76,
   "id": "3c5c8ad1",
   "metadata": {},
   "outputs": [
    {
     "name": "stdout",
     "output_type": "stream",
     "text": [
      "The home ownership status provided by the borrower during registration or obtained from the credit report. Our values are: RENT, OWN, MORTGAGE, OTHER\n"
     ]
    }
   ],
   "source": [
    "feature_info('home_ownership')"
   ]
  },
  {
   "cell_type": "code",
   "execution_count": 77,
   "id": "28e18937",
   "metadata": {},
   "outputs": [
    {
     "data": {
      "text/plain": [
       "MORTGAGE    198022\n",
       "RENT        159395\n",
       "OWN          37660\n",
       "OTHER          110\n",
       "NONE            29\n",
       "ANY              3\n",
       "Name: home_ownership, dtype: int64"
      ]
     },
     "execution_count": 77,
     "metadata": {},
     "output_type": "execute_result"
    }
   ],
   "source": [
    "data['home_ownership'].value_counts()"
   ]
  },
  {
   "cell_type": "code",
   "execution_count": 78,
   "id": "1c0a03d8",
   "metadata": {},
   "outputs": [],
   "source": [
    "data['home_ownership'] = data['home_ownership'].replace(['NONE', 'ANY'], 'OTHER')"
   ]
  },
  {
   "cell_type": "code",
   "execution_count": 79,
   "id": "d89b130f",
   "metadata": {},
   "outputs": [
    {
     "data": {
      "text/plain": [
       "MORTGAGE    198022\n",
       "RENT        159395\n",
       "OWN          37660\n",
       "OTHER          142\n",
       "Name: home_ownership, dtype: int64"
      ]
     },
     "execution_count": 79,
     "metadata": {},
     "output_type": "execute_result"
    }
   ],
   "source": [
    "data['home_ownership'].value_counts()"
   ]
  },
  {
   "cell_type": "code",
   "execution_count": 80,
   "id": "fd3e0e05",
   "metadata": {},
   "outputs": [],
   "source": [
    "dummies = pd.get_dummies(data['home_ownership'], drop_first=True)\n",
    "\n",
    "data = pd.concat([data.drop('home_ownership', axis=1), dummies], axis=1)"
   ]
  },
  {
   "cell_type": "code",
   "execution_count": 81,
   "id": "d13a1a30",
   "metadata": {},
   "outputs": [
    {
     "data": {
      "text/plain": [
       "0            0174 Michelle Gateway\\r\\nMendozaberg, OK 22690\n",
       "1         1076 Carney Fort Apt. 347\\r\\nLoganmouth, SD 05113\n",
       "2         87025 Mark Dale Apt. 269\\r\\nNew Sabrina, WV 05113\n",
       "3                   823 Reid Ford\\r\\nDelacruzside, MA 00813\n",
       "4                    679 Luna Roads\\r\\nGreggshire, VA 11650\n",
       "                                ...                        \n",
       "396025     12951 Williams Crossing\\r\\nJohnnyville, DC 30723\n",
       "396026    0114 Fowler Field Suite 028\\r\\nRachelborough, ...\n",
       "396027    953 Matthew Points Suite 414\\r\\nReedfort, NY 7...\n",
       "396028    7843 Blake Freeway Apt. 229\\r\\nNew Michael, FL...\n",
       "396029        787 Michelle Causeway\\r\\nBriannaton, AR 48052\n",
       "Name: address, Length: 395219, dtype: object"
      ]
     },
     "execution_count": 81,
     "metadata": {},
     "output_type": "execute_result"
    }
   ],
   "source": [
    "data['address']"
   ]
  },
  {
   "cell_type": "markdown",
   "id": "31aec8fb",
   "metadata": {},
   "source": [
    "Zip codes would be helpful"
   ]
  },
  {
   "cell_type": "code",
   "execution_count": 82,
   "id": "98bafd01",
   "metadata": {},
   "outputs": [
    {
     "data": {
      "text/plain": [
       "0         22690\n",
       "1         05113\n",
       "2         05113\n",
       "3         00813\n",
       "4         11650\n",
       "          ...  \n",
       "396025    30723\n",
       "396026    05113\n",
       "396027    70466\n",
       "396028    29597\n",
       "396029    48052\n",
       "Name: address, Length: 395219, dtype: object"
      ]
     },
     "execution_count": 82,
     "metadata": {},
     "output_type": "execute_result"
    }
   ],
   "source": [
    "data['address'].apply(lambda address: address[-5:])"
   ]
  },
  {
   "cell_type": "code",
   "execution_count": 83,
   "id": "1d189023",
   "metadata": {},
   "outputs": [],
   "source": [
    "data['zip_code'] = data['address'].apply(lambda address: address[-5:])"
   ]
  },
  {
   "cell_type": "code",
   "execution_count": 84,
   "id": "6086a342",
   "metadata": {},
   "outputs": [
    {
     "data": {
      "text/plain": [
       "70466    56880\n",
       "22690    56413\n",
       "30723    56402\n",
       "48052    55811\n",
       "00813    45725\n",
       "29597    45393\n",
       "05113    45300\n",
       "11650    11210\n",
       "93700    11126\n",
       "86630    10959\n",
       "Name: zip_code, dtype: int64"
      ]
     },
     "execution_count": 84,
     "metadata": {},
     "output_type": "execute_result"
    }
   ],
   "source": [
    "data['zip_code'].value_counts()"
   ]
  },
  {
   "cell_type": "code",
   "execution_count": 85,
   "id": "a916d2ea",
   "metadata": {},
   "outputs": [],
   "source": [
    "dummies = pd.get_dummies(data['zip_code'], drop_first=True)\n",
    "\n",
    "data = pd.concat([data.drop('zip_code', axis=1), dummies], axis=1)"
   ]
  },
  {
   "cell_type": "code",
   "execution_count": 86,
   "id": "ab21104f",
   "metadata": {},
   "outputs": [],
   "source": [
    "data = data.drop('address', axis=1)"
   ]
  },
  {
   "cell_type": "code",
   "execution_count": 87,
   "id": "00c22461",
   "metadata": {},
   "outputs": [
    {
     "name": "stdout",
     "output_type": "stream",
     "text": [
      "The month which the loan was funded\n"
     ]
    }
   ],
   "source": [
    "feature_info('issue_d')"
   ]
  },
  {
   "cell_type": "code",
   "execution_count": 88,
   "id": "c1525855",
   "metadata": {},
   "outputs": [],
   "source": [
    "data = data.drop('issue_d', axis=1)"
   ]
  },
  {
   "cell_type": "code",
   "execution_count": 89,
   "id": "5d4337ce",
   "metadata": {},
   "outputs": [
    {
     "name": "stdout",
     "output_type": "stream",
     "text": [
      "The month the borrower's earliest reported credit line was opened\n"
     ]
    }
   ],
   "source": [
    "feature_info('earliest_cr_line')"
   ]
  },
  {
   "cell_type": "code",
   "execution_count": 90,
   "id": "934578b7",
   "metadata": {},
   "outputs": [
    {
     "data": {
      "text/plain": [
       "0         Jun-1990\n",
       "1         Jul-2004\n",
       "2         Aug-2007\n",
       "3         Sep-2006\n",
       "4         Mar-1999\n",
       "            ...   \n",
       "396025    Nov-2004\n",
       "396026    Feb-2006\n",
       "396027    Mar-1997\n",
       "396028    Nov-1990\n",
       "396029    Sep-1998\n",
       "Name: earliest_cr_line, Length: 395219, dtype: object"
      ]
     },
     "execution_count": 90,
     "metadata": {},
     "output_type": "execute_result"
    }
   ],
   "source": [
    "data['earliest_cr_line']"
   ]
  },
  {
   "cell_type": "markdown",
   "id": "acdf547b",
   "metadata": {},
   "source": [
    "Getting the years here would be helpfull"
   ]
  },
  {
   "cell_type": "code",
   "execution_count": 91,
   "id": "e5478473",
   "metadata": {},
   "outputs": [],
   "source": [
    "data['earliest_cr_year'] = data['earliest_cr_line'].apply(lambda date: int(date[-4:]))"
   ]
  },
  {
   "cell_type": "code",
   "execution_count": 92,
   "id": "fc8460ad",
   "metadata": {},
   "outputs": [],
   "source": [
    "data = data.drop('earliest_cr_line', axis=1)"
   ]
  },
  {
   "cell_type": "code",
   "execution_count": 93,
   "id": "079ab4e3",
   "metadata": {},
   "outputs": [],
   "source": [
    "data = data.drop('loan_status', axis=1)"
   ]
  },
  {
   "cell_type": "markdown",
   "id": "15781ad2",
   "metadata": {},
   "source": [
    "As we saw earlier, the dataset is highly imbalanced which will cause the model to overfit to Fully Paid class.\n",
    "I will oversample the minority class in order to tackle this issue"
   ]
  },
  {
   "cell_type": "code",
   "execution_count": 94,
   "id": "d467b43c",
   "metadata": {},
   "outputs": [],
   "source": [
    "from imblearn.over_sampling import RandomOverSampler"
   ]
  },
  {
   "cell_type": "code",
   "execution_count": 95,
   "id": "e2021f1f",
   "metadata": {},
   "outputs": [],
   "source": [
    "X = data.drop('loan_repaid', axis=1)"
   ]
  },
  {
   "cell_type": "code",
   "execution_count": 96,
   "id": "98666f3b",
   "metadata": {},
   "outputs": [],
   "source": [
    "y = data['loan_repaid']"
   ]
  },
  {
   "cell_type": "code",
   "execution_count": 97,
   "id": "c9a31689",
   "metadata": {},
   "outputs": [],
   "source": [
    "scaler = MinMaxScaler()"
   ]
  },
  {
   "cell_type": "code",
   "execution_count": 98,
   "id": "50190f63",
   "metadata": {},
   "outputs": [],
   "source": [
    "X = scaler.fit_transform(X)"
   ]
  },
  {
   "cell_type": "code",
   "execution_count": 99,
   "id": "1b73d6fb",
   "metadata": {},
   "outputs": [],
   "source": [
    "X_train, X_test, y_train, y_test = train_test_split(X, y, test_size=0.2)"
   ]
  },
  {
   "cell_type": "code",
   "execution_count": 100,
   "id": "57253b00",
   "metadata": {},
   "outputs": [],
   "source": [
    "ros = RandomOverSampler(sampling_strategy=0.65)"
   ]
  },
  {
   "cell_type": "code",
   "execution_count": 101,
   "id": "25f87b11",
   "metadata": {},
   "outputs": [],
   "source": [
    "X_train_resampled, y_train_resampled = ros.fit_resample(X_train, y_train)\n",
    "X_test_resampled, y_test_resampled = ros.fit_resample(X_test, y_test)"
   ]
  },
  {
   "cell_type": "code",
   "execution_count": 102,
   "id": "6b2a6c78",
   "metadata": {},
   "outputs": [
    {
     "name": "stdout",
     "output_type": "stream",
     "text": [
      "1    254133\n",
      "0    165186\n",
      "Name: loan_repaid, dtype: int64\n"
     ]
    }
   ],
   "source": [
    "print(y_train_resampled.value_counts())"
   ]
  },
  {
   "cell_type": "code",
   "execution_count": 103,
   "id": "c8a851b1",
   "metadata": {},
   "outputs": [],
   "source": [
    "model = LogisticRegression()"
   ]
  },
  {
   "cell_type": "code",
   "execution_count": 104,
   "id": "11d746ae",
   "metadata": {},
   "outputs": [
    {
     "name": "stderr",
     "output_type": "stream",
     "text": [
      "C:\\Users\\Lenovo\\anaconda3\\lib\\site-packages\\sklearn\\linear_model\\_logistic.py:814: ConvergenceWarning: lbfgs failed to converge (status=1):\n",
      "STOP: TOTAL NO. of ITERATIONS REACHED LIMIT.\n",
      "\n",
      "Increase the number of iterations (max_iter) or scale the data as shown in:\n",
      "    https://scikit-learn.org/stable/modules/preprocessing.html\n",
      "Please also refer to the documentation for alternative solver options:\n",
      "    https://scikit-learn.org/stable/modules/linear_model.html#logistic-regression\n",
      "  n_iter_i = _check_optimize_result(\n"
     ]
    },
    {
     "data": {
      "text/plain": [
       "LogisticRegression()"
      ]
     },
     "execution_count": 104,
     "metadata": {},
     "output_type": "execute_result"
    }
   ],
   "source": [
    "model.fit(X_train_resampled, y_train_resampled)"
   ]
  },
  {
   "cell_type": "code",
   "execution_count": 105,
   "id": "7afa2c7f",
   "metadata": {},
   "outputs": [],
   "source": [
    "y_pred = model.predict(X_test_resampled)"
   ]
  },
  {
   "cell_type": "code",
   "execution_count": 106,
   "id": "510dd1f0",
   "metadata": {},
   "outputs": [
    {
     "name": "stdout",
     "output_type": "stream",
     "text": [
      "[[28385 12930]\n",
      " [ 6710 56853]]\n",
      "\n",
      "\n",
      "              precision    recall  f1-score   support\n",
      "\n",
      "           0     0.6870    0.8088    0.7430     35095\n",
      "           1     0.8944    0.8147    0.8527     69783\n",
      "\n",
      "    accuracy                         0.8127    104878\n",
      "   macro avg     0.7907    0.8118    0.7978    104878\n",
      "weighted avg     0.8250    0.8127    0.8160    104878\n",
      "\n"
     ]
    }
   ],
   "source": [
    "print(confusion_matrix(y_test_resampled, y_pred))\n",
    "print('\\n')\n",
    "print(classification_report(y_pred, y_test_resampled, digits=4))"
   ]
  },
  {
   "cell_type": "code",
   "execution_count": 107,
   "id": "2345e0df",
   "metadata": {},
   "outputs": [],
   "source": [
    "model = DecisionTreeClassifier()"
   ]
  },
  {
   "cell_type": "code",
   "execution_count": 108,
   "id": "d8f0b099",
   "metadata": {},
   "outputs": [
    {
     "data": {
      "text/plain": [
       "DecisionTreeClassifier()"
      ]
     },
     "execution_count": 108,
     "metadata": {},
     "output_type": "execute_result"
    }
   ],
   "source": [
    "model.fit(X_train_resampled, y_train_resampled)"
   ]
  },
  {
   "cell_type": "code",
   "execution_count": 109,
   "id": "b27c76fd",
   "metadata": {},
   "outputs": [],
   "source": [
    "y_pred = model.predict(X_test_resampled)"
   ]
  },
  {
   "cell_type": "code",
   "execution_count": 110,
   "id": "f1fe34bd",
   "metadata": {},
   "outputs": [
    {
     "name": "stdout",
     "output_type": "stream",
     "text": [
      "[[24202 17113]\n",
      " [ 6830 56733]]\n",
      "\n",
      "\n",
      "              precision    recall  f1-score   support\n",
      "\n",
      "           0     0.5858    0.7799    0.6691     31032\n",
      "           1     0.8925    0.7683    0.8258     73846\n",
      "\n",
      "    accuracy                         0.7717    104878\n",
      "   macro avg     0.7392    0.7741    0.7474    104878\n",
      "weighted avg     0.8018    0.7717    0.7794    104878\n",
      "\n"
     ]
    }
   ],
   "source": [
    "print(confusion_matrix(y_test_resampled, y_pred))\n",
    "print('\\n')\n",
    "print(classification_report(y_pred, y_test_resampled, digits=4))"
   ]
  },
  {
   "cell_type": "code",
   "execution_count": 111,
   "id": "a4c1ce4d",
   "metadata": {},
   "outputs": [],
   "source": [
    "model = RandomForestClassifier().fit(X_train_resampled, y_train_resampled)"
   ]
  },
  {
   "cell_type": "code",
   "execution_count": 112,
   "id": "16fe3d0d",
   "metadata": {},
   "outputs": [],
   "source": [
    "y_pred = model.predict(X_test_resampled)"
   ]
  },
  {
   "cell_type": "code",
   "execution_count": 113,
   "id": "8e1ae568",
   "metadata": {},
   "outputs": [
    {
     "name": "stdout",
     "output_type": "stream",
     "text": [
      "[[20253 21062]\n",
      " [  980 62583]]\n",
      "\n",
      "\n",
      "              precision    recall  f1-score   support\n",
      "\n",
      "           0     0.4902    0.9538    0.6476     21233\n",
      "           1     0.9846    0.7482    0.8503     83645\n",
      "\n",
      "    accuracy                         0.7898    104878\n",
      "   macro avg     0.7374    0.8510    0.7489    104878\n",
      "weighted avg     0.8845    0.7898    0.8092    104878\n",
      "\n"
     ]
    }
   ],
   "source": [
    "print(confusion_matrix(y_test_resampled, y_pred))\n",
    "print('\\n')\n",
    "print(classification_report(y_pred, y_test_resampled, digits=4))"
   ]
  },
  {
   "cell_type": "code",
   "execution_count": 114,
   "id": "65fd7d58",
   "metadata": {},
   "outputs": [],
   "source": [
    "model = KNeighborsClassifier().fit(X_train_resampled, y_train_resampled)"
   ]
  },
  {
   "cell_type": "code",
   "execution_count": 115,
   "id": "35ae2864",
   "metadata": {},
   "outputs": [
    {
     "name": "stderr",
     "output_type": "stream",
     "text": [
      "C:\\Users\\Lenovo\\anaconda3\\lib\\site-packages\\sklearn\\neighbors\\_classification.py:228: FutureWarning: Unlike other reduction functions (e.g. `skew`, `kurtosis`), the default behavior of `mode` typically preserves the axis it acts along. In SciPy 1.11.0, this behavior will change: the default value of `keepdims` will become False, the `axis` over which the statistic is taken will be eliminated, and the value None will no longer be accepted. Set `keepdims` to True or False to avoid this warning.\n",
      "  mode, _ = stats.mode(_y[neigh_ind, k], axis=1)\n"
     ]
    }
   ],
   "source": [
    "y_pred = model.predict(X_test_resampled)"
   ]
  },
  {
   "cell_type": "code",
   "execution_count": 116,
   "id": "f4f268c5",
   "metadata": {},
   "outputs": [
    {
     "name": "stdout",
     "output_type": "stream",
     "text": [
      "[[27226 14089]\n",
      " [10813 52750]]\n",
      "\n",
      "\n",
      "              precision    recall  f1-score   support\n",
      "\n",
      "           0     0.6590    0.7157    0.6862     38039\n",
      "           1     0.8299    0.7892    0.8090     66839\n",
      "\n",
      "    accuracy                         0.7626    104878\n",
      "   macro avg     0.7444    0.7525    0.7476    104878\n",
      "weighted avg     0.7679    0.7626    0.7645    104878\n",
      "\n"
     ]
    }
   ],
   "source": [
    "print(confusion_matrix(y_test_resampled, y_pred))\n",
    "print('\\n')\n",
    "print(classification_report(y_pred, y_test_resampled, digits=4))"
   ]
  },
  {
   "cell_type": "markdown",
   "id": "4c6bf9a8",
   "metadata": {},
   "source": [
    "Seems like oversampling didn't help that much. Because it's replicative data afterall and it also ruins the models\n",
    "performance on the Fully Paid class. It is reasonable because most people tend to repay their loan and at least we\n",
    "have a nice recall which means that our bank will not give loan to the customers who are really likely to refuse repaying \n",
    "their loan.\n",
    "Let's try the original data without oversampling"
   ]
  },
  {
   "cell_type": "markdown",
   "id": "b6d47781",
   "metadata": {},
   "source": [
    "Let's get back to the original dataset"
   ]
  },
  {
   "cell_type": "code",
   "execution_count": 117,
   "id": "e03d333a",
   "metadata": {},
   "outputs": [],
   "source": [
    "X_train, X_test, y_train, y_test = train_test_split(X, y, test_size=0.2)"
   ]
  },
  {
   "cell_type": "code",
   "execution_count": 118,
   "id": "168ecdeb",
   "metadata": {},
   "outputs": [
    {
     "name": "stdout",
     "output_type": "stream",
     "text": [
      "Shape of X_train:  (316175, 78)\n",
      "Shape of X_test:  (79044, 78)\n",
      "Shape of y_train:  (316175,)\n",
      "Shape of y_test:  (79044,)\n"
     ]
    }
   ],
   "source": [
    "print(\"Shape of X_train: \", X_train.shape)\n",
    "print(\"Shape of X_test: \", X_test.shape)\n",
    "print(\"Shape of y_train: \", y_train.shape)\n",
    "print(\"Shape of y_test: \", y_test.shape)"
   ]
  },
  {
   "cell_type": "code",
   "execution_count": 119,
   "id": "7f87d564",
   "metadata": {},
   "outputs": [
    {
     "name": "stderr",
     "output_type": "stream",
     "text": [
      "C:\\Users\\Lenovo\\anaconda3\\lib\\site-packages\\sklearn\\linear_model\\_logistic.py:814: ConvergenceWarning: lbfgs failed to converge (status=1):\n",
      "STOP: TOTAL NO. of ITERATIONS REACHED LIMIT.\n",
      "\n",
      "Increase the number of iterations (max_iter) or scale the data as shown in:\n",
      "    https://scikit-learn.org/stable/modules/preprocessing.html\n",
      "Please also refer to the documentation for alternative solver options:\n",
      "    https://scikit-learn.org/stable/modules/linear_model.html#logistic-regression\n",
      "  n_iter_i = _check_optimize_result(\n"
     ]
    }
   ],
   "source": [
    "model = LogisticRegression().fit(X_train, y_train)"
   ]
  },
  {
   "cell_type": "code",
   "execution_count": 120,
   "id": "760db2f2",
   "metadata": {},
   "outputs": [],
   "source": [
    "y_pred = model.predict(X_test)"
   ]
  },
  {
   "cell_type": "code",
   "execution_count": 121,
   "id": "37bcde7b",
   "metadata": {},
   "outputs": [
    {
     "name": "stdout",
     "output_type": "stream",
     "text": [
      "[[ 6930  8477]\n",
      " [  281 63356]]\n",
      "\n",
      "\n",
      "              precision    recall  f1-score   support\n",
      "\n",
      "           0     0.4498    0.9610    0.6128      7211\n",
      "           1     0.9956    0.8820    0.9354     71833\n",
      "\n",
      "    accuracy                         0.8892     79044\n",
      "   macro avg     0.7227    0.9215    0.7741     79044\n",
      "weighted avg     0.9458    0.8892    0.9059     79044\n",
      "\n"
     ]
    }
   ],
   "source": [
    "print(confusion_matrix(y_test, y_pred))\n",
    "print('\\n')\n",
    "print(classification_report(y_pred, y_test, digits=4))"
   ]
  },
  {
   "cell_type": "code",
   "execution_count": 122,
   "id": "0bf4068b",
   "metadata": {},
   "outputs": [],
   "source": [
    "model = RandomForestClassifier().fit(X_train, y_train)"
   ]
  },
  {
   "cell_type": "code",
   "execution_count": 123,
   "id": "af4db825",
   "metadata": {},
   "outputs": [],
   "source": [
    "y_pred = model.predict(X_test)"
   ]
  },
  {
   "cell_type": "code",
   "execution_count": 124,
   "id": "68427094",
   "metadata": {},
   "outputs": [
    {
     "name": "stdout",
     "output_type": "stream",
     "text": [
      "[[ 7006  8401]\n",
      " [  313 63324]]\n",
      "\n",
      "\n",
      "              precision    recall  f1-score   support\n",
      "\n",
      "           0     0.4547    0.9572    0.6166      7319\n",
      "           1     0.9951    0.8829    0.9356     71725\n",
      "\n",
      "    accuracy                         0.8898     79044\n",
      "   macro avg     0.7249    0.9201    0.7761     79044\n",
      "weighted avg     0.9450    0.8898    0.9061     79044\n",
      "\n"
     ]
    }
   ],
   "source": [
    "print(confusion_matrix(y_test, y_pred))\n",
    "print('\\n')\n",
    "print(classification_report(y_pred, y_test, digits=4))"
   ]
  },
  {
   "cell_type": "markdown",
   "id": "d34dfb0c",
   "metadata": {},
   "source": [
    "Let's also try a Neural Network"
   ]
  },
  {
   "cell_type": "code",
   "execution_count": 125,
   "id": "30cf936c",
   "metadata": {},
   "outputs": [],
   "source": [
    "model = Sequential([\n",
    "    Dense(64, activation=tf.nn.leaky_relu),\n",
    "    Dropout(0.3),\n",
    "    Dense(32, activation=tf.nn.leaky_relu),\n",
    "    Dropout(0.3),\n",
    "    Dense(16, activation=tf.nn.leaky_relu),\n",
    "    Dropout(0.3),\n",
    "    Dense(1, activation='sigmoid')\n",
    "])"
   ]
  },
  {
   "cell_type": "code",
   "execution_count": 126,
   "id": "15072c66",
   "metadata": {},
   "outputs": [],
   "source": [
    "model.compile(optimizer='adam', loss='binary_crossentropy')"
   ]
  },
  {
   "cell_type": "code",
   "execution_count": 127,
   "id": "e62fbc31",
   "metadata": {},
   "outputs": [
    {
     "name": "stdout",
     "output_type": "stream",
     "text": [
      "Epoch 1/100\n",
      "4941/4941 [==============================] - 20s 3ms/step - loss: 0.2828 - val_loss: 0.2607\n",
      "Epoch 2/100\n",
      "4941/4941 [==============================] - 13s 3ms/step - loss: 0.2650 - val_loss: 0.2605\n",
      "Epoch 3/100\n",
      "4941/4941 [==============================] - 13s 3ms/step - loss: 0.2634 - val_loss: 0.2606\n",
      "Epoch 4/100\n",
      "4941/4941 [==============================] - 13s 3ms/step - loss: 0.2627 - val_loss: 0.2591\n",
      "Epoch 5/100\n",
      "4941/4941 [==============================] - 13s 3ms/step - loss: 0.2620 - val_loss: 0.2590\n",
      "Epoch 6/100\n",
      "4941/4941 [==============================] - 13s 3ms/step - loss: 0.2615 - val_loss: 0.2593\n",
      "Epoch 7/100\n",
      "4941/4941 [==============================] - 13s 3ms/step - loss: 0.2613 - val_loss: 0.2588\n",
      "Epoch 8/100\n",
      "4941/4941 [==============================] - 13s 3ms/step - loss: 0.2610 - val_loss: 0.2581\n",
      "Epoch 9/100\n",
      "4941/4941 [==============================] - 13s 3ms/step - loss: 0.2607 - val_loss: 0.2579\n",
      "Epoch 10/100\n",
      "4941/4941 [==============================] - 13s 3ms/step - loss: 0.2606 - val_loss: 0.2588\n",
      "Epoch 11/100\n",
      "4941/4941 [==============================] - 13s 3ms/step - loss: 0.2605 - val_loss: 0.2583\n",
      "Epoch 12/100\n",
      "4941/4941 [==============================] - 13s 3ms/step - loss: 0.2601 - val_loss: 0.2590\n",
      "Epoch 13/100\n",
      "4941/4941 [==============================] - 13s 3ms/step - loss: 0.2600 - val_loss: 0.2577\n",
      "Epoch 14/100\n",
      "4941/4941 [==============================] - 13s 3ms/step - loss: 0.2598 - val_loss: 0.2581\n",
      "Epoch 15/100\n",
      "4941/4941 [==============================] - 13s 3ms/step - loss: 0.2595 - val_loss: 0.2576\n",
      "Epoch 16/100\n",
      "4941/4941 [==============================] - 13s 3ms/step - loss: 0.2596 - val_loss: 0.2575\n",
      "Epoch 17/100\n",
      "4941/4941 [==============================] - 13s 3ms/step - loss: 0.2594 - val_loss: 0.2574\n",
      "Epoch 18/100\n",
      "4941/4941 [==============================] - 13s 3ms/step - loss: 0.2595 - val_loss: 0.2574\n",
      "Epoch 19/100\n",
      "4941/4941 [==============================] - 13s 3ms/step - loss: 0.2594 - val_loss: 0.2579\n",
      "Epoch 20/100\n",
      "4941/4941 [==============================] - 13s 3ms/step - loss: 0.2593 - val_loss: 0.2571\n",
      "Epoch 21/100\n",
      "4941/4941 [==============================] - 13s 3ms/step - loss: 0.2594 - val_loss: 0.2576\n",
      "Epoch 22/100\n",
      "4941/4941 [==============================] - 13s 3ms/step - loss: 0.2591 - val_loss: 0.2573\n",
      "Epoch 23/100\n",
      "4941/4941 [==============================] - 13s 3ms/step - loss: 0.2588 - val_loss: 0.2574\n",
      "Epoch 24/100\n",
      "4941/4941 [==============================] - 13s 3ms/step - loss: 0.2589 - val_loss: 0.2572\n",
      "Epoch 25/100\n",
      "4941/4941 [==============================] - 13s 3ms/step - loss: 0.2587 - val_loss: 0.2570\n",
      "Epoch 26/100\n",
      "4941/4941 [==============================] - 13s 3ms/step - loss: 0.2588 - val_loss: 0.2571\n",
      "Epoch 27/100\n",
      "4941/4941 [==============================] - 13s 3ms/step - loss: 0.2587 - val_loss: 0.2569\n",
      "Epoch 28/100\n",
      "4941/4941 [==============================] - 13s 3ms/step - loss: 0.2590 - val_loss: 0.2568\n",
      "Epoch 29/100\n",
      "4941/4941 [==============================] - 13s 3ms/step - loss: 0.2584 - val_loss: 0.2572\n",
      "Epoch 30/100\n",
      "4941/4941 [==============================] - 13s 3ms/step - loss: 0.2583 - val_loss: 0.2571\n",
      "Epoch 31/100\n",
      "4941/4941 [==============================] - 13s 3ms/step - loss: 0.2584 - val_loss: 0.2566\n",
      "Epoch 32/100\n",
      "4941/4941 [==============================] - 13s 3ms/step - loss: 0.2585 - val_loss: 0.2570\n",
      "Epoch 33/100\n",
      "4941/4941 [==============================] - 13s 3ms/step - loss: 0.2584 - val_loss: 0.2573\n",
      "Epoch 34/100\n",
      "4941/4941 [==============================] - 13s 3ms/step - loss: 0.2583 - val_loss: 0.2564\n",
      "Epoch 35/100\n",
      "4941/4941 [==============================] - 13s 3ms/step - loss: 0.2583 - val_loss: 0.2578\n",
      "Epoch 36/100\n",
      "4941/4941 [==============================] - 13s 3ms/step - loss: 0.2583 - val_loss: 0.2566\n",
      "Epoch 37/100\n",
      "4941/4941 [==============================] - 13s 3ms/step - loss: 0.2581 - val_loss: 0.2570\n",
      "Epoch 38/100\n",
      "4941/4941 [==============================] - 13s 3ms/step - loss: 0.2584 - val_loss: 0.2573\n",
      "Epoch 39/100\n",
      "4941/4941 [==============================] - 13s 3ms/step - loss: 0.2580 - val_loss: 0.2588\n",
      "Epoch 40/100\n",
      "4941/4941 [==============================] - 13s 3ms/step - loss: 0.2579 - val_loss: 0.2563\n",
      "Epoch 41/100\n",
      "4941/4941 [==============================] - 13s 3ms/step - loss: 0.2581 - val_loss: 0.2568\n",
      "Epoch 42/100\n",
      "4941/4941 [==============================] - 13s 3ms/step - loss: 0.2580 - val_loss: 0.2562\n",
      "Epoch 43/100\n",
      "4941/4941 [==============================] - 13s 3ms/step - loss: 0.2580 - val_loss: 0.2565\n",
      "Epoch 44/100\n",
      "4941/4941 [==============================] - 13s 3ms/step - loss: 0.2581 - val_loss: 0.2561\n",
      "Epoch 45/100\n",
      "4941/4941 [==============================] - 13s 3ms/step - loss: 0.2579 - val_loss: 0.2561\n",
      "Epoch 46/100\n",
      "4941/4941 [==============================] - 13s 3ms/step - loss: 0.2574 - val_loss: 0.2561\n",
      "Epoch 47/100\n",
      "4941/4941 [==============================] - 13s 3ms/step - loss: 0.2579 - val_loss: 0.2563\n",
      "Epoch 48/100\n",
      "4941/4941 [==============================] - 13s 3ms/step - loss: 0.2576 - val_loss: 0.2563\n",
      "Epoch 49/100\n",
      "4941/4941 [==============================] - 13s 3ms/step - loss: 0.2576 - val_loss: 0.2558\n",
      "Epoch 50/100\n",
      "4941/4941 [==============================] - 13s 3ms/step - loss: 0.2578 - val_loss: 0.2560\n",
      "Epoch 51/100\n",
      "4941/4941 [==============================] - 14s 3ms/step - loss: 0.2576 - val_loss: 0.2559\n",
      "Epoch 52/100\n",
      "4941/4941 [==============================] - 17s 3ms/step - loss: 0.2576 - val_loss: 0.2562\n",
      "Epoch 53/100\n",
      "4941/4941 [==============================] - 21s 4ms/step - loss: 0.2577 - val_loss: 0.2561\n",
      "Epoch 54/100\n",
      "4941/4941 [==============================] - 18s 4ms/step - loss: 0.2575 - val_loss: 0.2559\n",
      "Epoch 55/100\n",
      "4941/4941 [==============================] - 16s 3ms/step - loss: 0.2575 - val_loss: 0.2559\n",
      "Epoch 56/100\n",
      "4941/4941 [==============================] - 16s 3ms/step - loss: 0.2573 - val_loss: 0.2560\n",
      "Epoch 57/100\n",
      "4941/4941 [==============================] - 16s 3ms/step - loss: 0.2575 - val_loss: 0.2560\n",
      "Epoch 58/100\n",
      "4941/4941 [==============================] - 16s 3ms/step - loss: 0.2576 - val_loss: 0.2558\n",
      "Epoch 59/100\n",
      "4941/4941 [==============================] - 16s 3ms/step - loss: 0.2575 - val_loss: 0.2565\n",
      "Epoch 60/100\n",
      "4941/4941 [==============================] - 16s 3ms/step - loss: 0.2572 - val_loss: 0.2557\n",
      "Epoch 61/100\n",
      "4941/4941 [==============================] - 16s 3ms/step - loss: 0.2574 - val_loss: 0.2564\n",
      "Epoch 62/100\n",
      "4941/4941 [==============================] - 16s 3ms/step - loss: 0.2574 - val_loss: 0.2565\n",
      "Epoch 63/100\n",
      "4941/4941 [==============================] - 16s 3ms/step - loss: 0.2573 - val_loss: 0.2556\n",
      "Epoch 64/100\n",
      "4941/4941 [==============================] - 16s 3ms/step - loss: 0.2573 - val_loss: 0.2560\n",
      "Epoch 65/100\n",
      "4941/4941 [==============================] - 16s 3ms/step - loss: 0.2571 - val_loss: 0.2558\n",
      "Epoch 66/100\n",
      "4941/4941 [==============================] - 16s 3ms/step - loss: 0.2572 - val_loss: 0.2561\n",
      "Epoch 67/100\n",
      "4941/4941 [==============================] - 16s 3ms/step - loss: 0.2572 - val_loss: 0.2558\n",
      "Epoch 68/100\n",
      "4941/4941 [==============================] - 16s 3ms/step - loss: 0.2571 - val_loss: 0.2568\n",
      "Epoch 69/100\n",
      "4941/4941 [==============================] - 16s 3ms/step - loss: 0.2572 - val_loss: 0.2563\n",
      "Epoch 70/100\n",
      "4941/4941 [==============================] - 17s 3ms/step - loss: 0.2570 - val_loss: 0.2555\n",
      "Epoch 71/100\n",
      "4941/4941 [==============================] - 16s 3ms/step - loss: 0.2574 - val_loss: 0.2558\n",
      "Epoch 72/100\n",
      "4941/4941 [==============================] - 16s 3ms/step - loss: 0.2569 - val_loss: 0.2561\n",
      "Epoch 73/100\n",
      "4941/4941 [==============================] - 16s 3ms/step - loss: 0.2573 - val_loss: 0.2559\n",
      "Epoch 74/100\n",
      "4941/4941 [==============================] - 17s 3ms/step - loss: 0.2571 - val_loss: 0.2557\n",
      "Epoch 75/100\n",
      "4941/4941 [==============================] - 16s 3ms/step - loss: 0.2573 - val_loss: 0.2561\n",
      "Epoch 76/100\n",
      "4941/4941 [==============================] - 16s 3ms/step - loss: 0.2572 - val_loss: 0.2563\n",
      "Epoch 77/100\n",
      "4941/4941 [==============================] - 16s 3ms/step - loss: 0.2571 - val_loss: 0.2561\n",
      "Epoch 78/100\n",
      "4941/4941 [==============================] - 16s 3ms/step - loss: 0.2570 - val_loss: 0.2558\n",
      "Epoch 79/100\n"
     ]
    },
    {
     "name": "stdout",
     "output_type": "stream",
     "text": [
      "4941/4941 [==============================] - 15s 3ms/step - loss: 0.2571 - val_loss: 0.2555\n",
      "Epoch 80/100\n",
      "4941/4941 [==============================] - 15s 3ms/step - loss: 0.2570 - val_loss: 0.2565\n",
      "Epoch 81/100\n",
      "4941/4941 [==============================] - 15s 3ms/step - loss: 0.2567 - val_loss: 0.2563\n",
      "Epoch 82/100\n",
      "4941/4941 [==============================] - 15s 3ms/step - loss: 0.2568 - val_loss: 0.2559\n",
      "Epoch 83/100\n",
      "4941/4941 [==============================] - 15s 3ms/step - loss: 0.2568 - val_loss: 0.2555\n",
      "Epoch 84/100\n",
      "4941/4941 [==============================] - 15s 3ms/step - loss: 0.2570 - val_loss: 0.2563\n",
      "Epoch 85/100\n",
      "4941/4941 [==============================] - 15s 3ms/step - loss: 0.2569 - val_loss: 0.2557\n",
      "Epoch 86/100\n",
      "4941/4941 [==============================] - 15s 3ms/step - loss: 0.2568 - val_loss: 0.2556\n",
      "Epoch 87/100\n",
      "4941/4941 [==============================] - 15s 3ms/step - loss: 0.2566 - val_loss: 0.2577\n",
      "Epoch 88/100\n",
      "4941/4941 [==============================] - 15s 3ms/step - loss: 0.2568 - val_loss: 0.2554\n",
      "Epoch 89/100\n",
      "4941/4941 [==============================] - 15s 3ms/step - loss: 0.2567 - val_loss: 0.2559\n",
      "Epoch 90/100\n",
      "4941/4941 [==============================] - 16s 3ms/step - loss: 0.2570 - val_loss: 0.2559\n",
      "Epoch 91/100\n",
      "4941/4941 [==============================] - 15s 3ms/step - loss: 0.2567 - val_loss: 0.2556\n",
      "Epoch 92/100\n",
      "4941/4941 [==============================] - 15s 3ms/step - loss: 0.2567 - val_loss: 0.2562\n",
      "Epoch 93/100\n",
      "4941/4941 [==============================] - 15s 3ms/step - loss: 0.2569 - val_loss: 0.2566\n",
      "Epoch 94/100\n",
      "4941/4941 [==============================] - 15s 3ms/step - loss: 0.2568 - val_loss: 0.2556\n",
      "Epoch 95/100\n",
      "4941/4941 [==============================] - 15s 3ms/step - loss: 0.2569 - val_loss: 0.2554\n",
      "Epoch 96/100\n",
      "4941/4941 [==============================] - 15s 3ms/step - loss: 0.2570 - val_loss: 0.2556\n",
      "Epoch 97/100\n",
      "4941/4941 [==============================] - 15s 3ms/step - loss: 0.2569 - val_loss: 0.2558\n",
      "Epoch 98/100\n",
      "4941/4941 [==============================] - 15s 3ms/step - loss: 0.2566 - val_loss: 0.2557\n",
      "Epoch 99/100\n",
      "4941/4941 [==============================] - 15s 3ms/step - loss: 0.2565 - val_loss: 0.2564\n",
      "Epoch 100/100\n",
      "4941/4941 [==============================] - 15s 3ms/step - loss: 0.2568 - val_loss: 0.2559\n"
     ]
    },
    {
     "data": {
      "text/plain": [
       "<keras.callbacks.History at 0x2a6008d3a90>"
      ]
     },
     "execution_count": 127,
     "metadata": {},
     "output_type": "execute_result"
    }
   ],
   "source": [
    "model.fit(X_train, y_train, validation_data=(X_test, y_test), batch_size=64, epochs=100)"
   ]
  },
  {
   "cell_type": "code",
   "execution_count": 128,
   "id": "3f2da187",
   "metadata": {},
   "outputs": [
    {
     "name": "stdout",
     "output_type": "stream",
     "text": [
      "Model: \"sequential\"\n",
      "_________________________________________________________________\n",
      " Layer (type)                Output Shape              Param #   \n",
      "=================================================================\n",
      " dense (Dense)               (None, 64)                5056      \n",
      "                                                                 \n",
      " dropout (Dropout)           (None, 64)                0         \n",
      "                                                                 \n",
      " dense_1 (Dense)             (None, 32)                2080      \n",
      "                                                                 \n",
      " dropout_1 (Dropout)         (None, 32)                0         \n",
      "                                                                 \n",
      " dense_2 (Dense)             (None, 16)                528       \n",
      "                                                                 \n",
      " dropout_2 (Dropout)         (None, 16)                0         \n",
      "                                                                 \n",
      " dense_3 (Dense)             (None, 1)                 17        \n",
      "                                                                 \n",
      "=================================================================\n",
      "Total params: 7,681\n",
      "Trainable params: 7,681\n",
      "Non-trainable params: 0\n",
      "_________________________________________________________________\n"
     ]
    }
   ],
   "source": [
    "model.summary()"
   ]
  },
  {
   "cell_type": "code",
   "execution_count": 129,
   "id": "1911094e",
   "metadata": {},
   "outputs": [
    {
     "data": {
      "text/plain": [
       "{'loss': [0.28275856375694275,\n",
       "  0.2649887204170227,\n",
       "  0.26335039734840393,\n",
       "  0.2626654803752899,\n",
       "  0.26196637749671936,\n",
       "  0.26145461201667786,\n",
       "  0.2612500488758087,\n",
       "  0.2610100507736206,\n",
       "  0.26069098711013794,\n",
       "  0.2606034278869629,\n",
       "  0.260451078414917,\n",
       "  0.26006367802619934,\n",
       "  0.2600378096103668,\n",
       "  0.2598024904727936,\n",
       "  0.2594512403011322,\n",
       "  0.2596064507961273,\n",
       "  0.25935494899749756,\n",
       "  0.25951603055000305,\n",
       "  0.2594250738620758,\n",
       "  0.2593349516391754,\n",
       "  0.25935161113739014,\n",
       "  0.2590698003768921,\n",
       "  0.2588304281234741,\n",
       "  0.2588841915130615,\n",
       "  0.2587096393108368,\n",
       "  0.2587817311286926,\n",
       "  0.25867512822151184,\n",
       "  0.2589711844921112,\n",
       "  0.25835537910461426,\n",
       "  0.2583477199077606,\n",
       "  0.25839823484420776,\n",
       "  0.25851789116859436,\n",
       "  0.2584135830402374,\n",
       "  0.2582743465900421,\n",
       "  0.25827664136886597,\n",
       "  0.25826120376586914,\n",
       "  0.2581380009651184,\n",
       "  0.25836390256881714,\n",
       "  0.25802838802337646,\n",
       "  0.2579318881034851,\n",
       "  0.25813624262809753,\n",
       "  0.25800788402557373,\n",
       "  0.2580356299877167,\n",
       "  0.2580971419811249,\n",
       "  0.25790202617645264,\n",
       "  0.2573939561843872,\n",
       "  0.25786057114601135,\n",
       "  0.2576298713684082,\n",
       "  0.25759023427963257,\n",
       "  0.2578492760658264,\n",
       "  0.2576417624950409,\n",
       "  0.25764378905296326,\n",
       "  0.2577177584171295,\n",
       "  0.2574753761291504,\n",
       "  0.25746771693229675,\n",
       "  0.25730934739112854,\n",
       "  0.257478266954422,\n",
       "  0.257561594247818,\n",
       "  0.25748729705810547,\n",
       "  0.25722628831863403,\n",
       "  0.2574325203895569,\n",
       "  0.2574162781238556,\n",
       "  0.2572949230670929,\n",
       "  0.2572934329509735,\n",
       "  0.2571183741092682,\n",
       "  0.2571814954280853,\n",
       "  0.25724542140960693,\n",
       "  0.2571432590484619,\n",
       "  0.25724634528160095,\n",
       "  0.2569950520992279,\n",
       "  0.2573662996292114,\n",
       "  0.2569415271282196,\n",
       "  0.2572629749774933,\n",
       "  0.25705716013908386,\n",
       "  0.25725504755973816,\n",
       "  0.2571971118450165,\n",
       "  0.25714436173439026,\n",
       "  0.2569909691810608,\n",
       "  0.2570624351501465,\n",
       "  0.25696077942848206,\n",
       "  0.2567472755908966,\n",
       "  0.2568260729312897,\n",
       "  0.2567921280860901,\n",
       "  0.25695478916168213,\n",
       "  0.25693845748901367,\n",
       "  0.2567918300628662,\n",
       "  0.25661298632621765,\n",
       "  0.2567642629146576,\n",
       "  0.2567225992679596,\n",
       "  0.25697842240333557,\n",
       "  0.2566736340522766,\n",
       "  0.25670960545539856,\n",
       "  0.2568875849246979,\n",
       "  0.25680115818977356,\n",
       "  0.25692087411880493,\n",
       "  0.25700587034225464,\n",
       "  0.25687217712402344,\n",
       "  0.25658974051475525,\n",
       "  0.256450891494751,\n",
       "  0.2567896842956543],\n",
       " 'val_loss': [0.26070523262023926,\n",
       "  0.2605462968349457,\n",
       "  0.26064905524253845,\n",
       "  0.2590676248073578,\n",
       "  0.2589739263057709,\n",
       "  0.25929898023605347,\n",
       "  0.2587803602218628,\n",
       "  0.2580500543117523,\n",
       "  0.2579047977924347,\n",
       "  0.2587842047214508,\n",
       "  0.25828316807746887,\n",
       "  0.2589830160140991,\n",
       "  0.2577033042907715,\n",
       "  0.25808554887771606,\n",
       "  0.2576335370540619,\n",
       "  0.2575395703315735,\n",
       "  0.2574140429496765,\n",
       "  0.2574153244495392,\n",
       "  0.2578871548175812,\n",
       "  0.2570660412311554,\n",
       "  0.2576025128364563,\n",
       "  0.25732144713401794,\n",
       "  0.25743162631988525,\n",
       "  0.25720763206481934,\n",
       "  0.2569918632507324,\n",
       "  0.25714126229286194,\n",
       "  0.2569246292114258,\n",
       "  0.256753146648407,\n",
       "  0.25715720653533936,\n",
       "  0.2570558190345764,\n",
       "  0.2566443979740143,\n",
       "  0.2569759488105774,\n",
       "  0.2573287785053253,\n",
       "  0.25640326738357544,\n",
       "  0.2578226327896118,\n",
       "  0.25657445192337036,\n",
       "  0.2570095360279083,\n",
       "  0.25726318359375,\n",
       "  0.25881749391555786,\n",
       "  0.2563215494155884,\n",
       "  0.2568340301513672,\n",
       "  0.25617918372154236,\n",
       "  0.25651904940605164,\n",
       "  0.25606605410575867,\n",
       "  0.2560616135597229,\n",
       "  0.25609180331230164,\n",
       "  0.25625374913215637,\n",
       "  0.25625839829444885,\n",
       "  0.2558198869228363,\n",
       "  0.255954384803772,\n",
       "  0.25589969754219055,\n",
       "  0.2561914026737213,\n",
       "  0.2561250329017639,\n",
       "  0.2558715343475342,\n",
       "  0.25589314103126526,\n",
       "  0.2560136914253235,\n",
       "  0.2559824585914612,\n",
       "  0.2558468282222748,\n",
       "  0.2564558684825897,\n",
       "  0.25567445158958435,\n",
       "  0.25641268491744995,\n",
       "  0.25651833415031433,\n",
       "  0.2555808126926422,\n",
       "  0.2560220956802368,\n",
       "  0.2558450400829315,\n",
       "  0.25605350732803345,\n",
       "  0.2557879686355591,\n",
       "  0.2567918002605438,\n",
       "  0.2562738060951233,\n",
       "  0.25547876954078674,\n",
       "  0.25578710436820984,\n",
       "  0.2560679316520691,\n",
       "  0.2558741867542267,\n",
       "  0.2557121813297272,\n",
       "  0.2560933530330658,\n",
       "  0.2563309967517853,\n",
       "  0.2561022639274597,\n",
       "  0.25582176446914673,\n",
       "  0.2555306553840637,\n",
       "  0.2564845383167267,\n",
       "  0.2562881410121918,\n",
       "  0.25590524077415466,\n",
       "  0.255537748336792,\n",
       "  0.2562515139579773,\n",
       "  0.25565803050994873,\n",
       "  0.25562626123428345,\n",
       "  0.25770851969718933,\n",
       "  0.2553829848766327,\n",
       "  0.2558826506137848,\n",
       "  0.2559446096420288,\n",
       "  0.25562748312950134,\n",
       "  0.25617516040802,\n",
       "  0.2566128373146057,\n",
       "  0.2555505037307739,\n",
       "  0.25540199875831604,\n",
       "  0.25562477111816406,\n",
       "  0.2558498978614807,\n",
       "  0.2556605339050293,\n",
       "  0.2563873529434204,\n",
       "  0.2558775246143341]}"
      ]
     },
     "execution_count": 129,
     "metadata": {},
     "output_type": "execute_result"
    }
   ],
   "source": [
    "model.history.history"
   ]
  },
  {
   "cell_type": "code",
   "execution_count": 130,
   "id": "dc6049d8",
   "metadata": {},
   "outputs": [],
   "source": [
    "loss = pd.DataFrame(model.history.history)"
   ]
  },
  {
   "cell_type": "code",
   "execution_count": 131,
   "id": "60093ff3",
   "metadata": {},
   "outputs": [
    {
     "data": {
      "text/html": [
       "<div>\n",
       "<style scoped>\n",
       "    .dataframe tbody tr th:only-of-type {\n",
       "        vertical-align: middle;\n",
       "    }\n",
       "\n",
       "    .dataframe tbody tr th {\n",
       "        vertical-align: top;\n",
       "    }\n",
       "\n",
       "    .dataframe thead th {\n",
       "        text-align: right;\n",
       "    }\n",
       "</style>\n",
       "<table border=\"1\" class=\"dataframe\">\n",
       "  <thead>\n",
       "    <tr style=\"text-align: right;\">\n",
       "      <th></th>\n",
       "      <th>loss</th>\n",
       "      <th>val_loss</th>\n",
       "    </tr>\n",
       "  </thead>\n",
       "  <tbody>\n",
       "    <tr>\n",
       "      <th>0</th>\n",
       "      <td>0.282759</td>\n",
       "      <td>0.260705</td>\n",
       "    </tr>\n",
       "    <tr>\n",
       "      <th>1</th>\n",
       "      <td>0.264989</td>\n",
       "      <td>0.260546</td>\n",
       "    </tr>\n",
       "    <tr>\n",
       "      <th>2</th>\n",
       "      <td>0.263350</td>\n",
       "      <td>0.260649</td>\n",
       "    </tr>\n",
       "    <tr>\n",
       "      <th>3</th>\n",
       "      <td>0.262665</td>\n",
       "      <td>0.259068</td>\n",
       "    </tr>\n",
       "    <tr>\n",
       "      <th>4</th>\n",
       "      <td>0.261966</td>\n",
       "      <td>0.258974</td>\n",
       "    </tr>\n",
       "  </tbody>\n",
       "</table>\n",
       "</div>"
      ],
      "text/plain": [
       "       loss  val_loss\n",
       "0  0.282759  0.260705\n",
       "1  0.264989  0.260546\n",
       "2  0.263350  0.260649\n",
       "3  0.262665  0.259068\n",
       "4  0.261966  0.258974"
      ]
     },
     "execution_count": 131,
     "metadata": {},
     "output_type": "execute_result"
    }
   ],
   "source": [
    "loss.head()"
   ]
  },
  {
   "cell_type": "code",
   "execution_count": 132,
   "id": "ba632e38",
   "metadata": {},
   "outputs": [
    {
     "data": {
      "text/plain": [
       "<AxesSubplot:>"
      ]
     },
     "execution_count": 132,
     "metadata": {},
     "output_type": "execute_result"
    },
    {
     "data": {
      "image/png": "[encoded data removed]",
      "text/plain": [
       "<Figure size 640x480 with 1 Axes>"
      ]
     },
     "metadata": {},
     "output_type": "display_data"
    }
   ],
   "source": [
    "loss.plot()"
   ]
  },
  {
   "cell_type": "markdown",
   "id": "cf9d46da",
   "metadata": {},
   "source": [
    "The fluctuations in the error are due to using Dropout layer which is ok."
   ]
  },
  {
   "cell_type": "code",
   "execution_count": 133,
   "id": "a0897877",
   "metadata": {},
   "outputs": [
    {
     "name": "stdout",
     "output_type": "stream",
     "text": [
      "2471/2471 [==============================] - 4s 1ms/step\n"
     ]
    }
   ],
   "source": [
    "y_pred = (model.predict(X_test) > 0.5)"
   ]
  },
  {
   "cell_type": "code",
   "execution_count": 134,
   "id": "63cedd65",
   "metadata": {},
   "outputs": [
    {
     "name": "stdout",
     "output_type": "stream",
     "text": [
      "[[ 7434  7973]\n",
      " [  741 62896]]\n",
      "\n",
      "\n",
      "              precision    recall  f1-score   support\n",
      "\n",
      "       False     0.4825    0.9094    0.6305      8175\n",
      "        True     0.9884    0.8875    0.9352     70869\n",
      "\n",
      "    accuracy                         0.8898     79044\n",
      "   macro avg     0.7354    0.8984    0.7828     79044\n",
      "weighted avg     0.9360    0.8898    0.9037     79044\n",
      "\n"
     ]
    }
   ],
   "source": [
    "print(confusion_matrix(y_test, y_pred))\n",
    "print('\\n')\n",
    "print(classification_report(y_pred, y_test, digits=4))"
   ]
  },
  {
   "cell_type": "markdown",
   "id": "38059f23",
   "metadata": {},
   "source": [
    "Let's explore some test examples"
   ]
  },
  {
   "cell_type": "code",
   "execution_count": 135,
   "id": "b50afc12",
   "metadata": {},
   "outputs": [],
   "source": [
    "random_number = random.randint(0, len(data))\n",
    "test_customer = data.drop('loan_repaid', axis=1).iloc[random_number]"
   ]
  },
  {
   "cell_type": "code",
   "execution_count": 136,
   "id": "0a26e3d5",
   "metadata": {},
   "outputs": [
    {
     "data": {
      "text/plain": [
       "loan_amnt            6500.00\n",
       "term                   36.00\n",
       "int_rate               13.35\n",
       "installment           220.11\n",
       "annual_inc          63000.00\n",
       "                      ...   \n",
       "48052                   0.00\n",
       "70466                   0.00\n",
       "86630                   0.00\n",
       "93700                   0.00\n",
       "earliest_cr_year     1982.00\n",
       "Name: 95354, Length: 78, dtype: float64"
      ]
     },
     "execution_count": 136,
     "metadata": {},
     "output_type": "execute_result"
    }
   ],
   "source": [
    "test_customer"
   ]
  },
  {
   "cell_type": "code",
   "execution_count": 137,
   "id": "c64b4d8d",
   "metadata": {},
   "outputs": [
    {
     "name": "stderr",
     "output_type": "stream",
     "text": [
      "C:\\Users\\Lenovo\\anaconda3\\lib\\site-packages\\sklearn\\base.py:450: UserWarning: X does not have valid feature names, but MinMaxScaler was fitted with feature names\n",
      "  warnings.warn(\n"
     ]
    }
   ],
   "source": [
    "test_customer = scaler.transform(test_customer.values.reshape(1, 78))"
   ]
  },
  {
   "cell_type": "code",
   "execution_count": 138,
   "id": "7057e77a",
   "metadata": {},
   "outputs": [
    {
     "data": {
      "text/plain": [
       "1.0"
      ]
     },
     "execution_count": 138,
     "metadata": {},
     "output_type": "execute_result"
    }
   ],
   "source": [
    "data.iloc[random_number]['loan_repaid']"
   ]
  },
  {
   "cell_type": "code",
   "execution_count": 139,
   "id": "6597a958",
   "metadata": {},
   "outputs": [
    {
     "name": "stdout",
     "output_type": "stream",
     "text": [
      "1/1 [==============================] - 0s 56ms/step\n"
     ]
    },
    {
     "data": {
      "text/plain": [
       "[1]"
      ]
     },
     "execution_count": 139,
     "metadata": {},
     "output_type": "execute_result"
    }
   ],
   "source": [
    "[1 if model.predict(test_customer) > 0.5 else 0]"
   ]
  },
  {
   "cell_type": "code",
   "execution_count": 140,
   "id": "79bde410",
   "metadata": {},
   "outputs": [
    {
     "name": "stderr",
     "output_type": "stream",
     "text": [
      "C:\\Users\\Lenovo\\anaconda3\\lib\\site-packages\\sklearn\\base.py:450: UserWarning: X does not have valid feature names, but MinMaxScaler was fitted with feature names\n",
      "  warnings.warn(\n"
     ]
    }
   ],
   "source": [
    "random_number = random.randint(0, len(data))\n",
    "test_customer = data.drop('loan_repaid', axis=1).iloc[random_number]\n",
    "test_customer = scaler.transform(test_customer.values.reshape(1, 78))"
   ]
  },
  {
   "cell_type": "code",
   "execution_count": 141,
   "id": "bcb8e3fd",
   "metadata": {},
   "outputs": [
    {
     "data": {
      "text/plain": [
       "1.0"
      ]
     },
     "execution_count": 141,
     "metadata": {},
     "output_type": "execute_result"
    }
   ],
   "source": [
    "data.iloc[random_number]['loan_repaid']"
   ]
  },
  {
   "cell_type": "code",
   "execution_count": 142,
   "id": "968ed188",
   "metadata": {},
   "outputs": [
    {
     "name": "stdout",
     "output_type": "stream",
     "text": [
      "1/1 [==============================] - 0s 25ms/step\n"
     ]
    },
    {
     "data": {
      "text/plain": [
       "[1]"
      ]
     },
     "execution_count": 142,
     "metadata": {},
     "output_type": "execute_result"
    }
   ],
   "source": [
    "[1 if model.predict(test_customer) > 0.5 else 0]"
   ]
  },
  {
   "cell_type": "code",
   "execution_count": 143,
   "id": "bdf32986",
   "metadata": {},
   "outputs": [
    {
     "name": "stderr",
     "output_type": "stream",
     "text": [
      "C:\\Users\\Lenovo\\anaconda3\\lib\\site-packages\\sklearn\\base.py:450: UserWarning: X does not have valid feature names, but MinMaxScaler was fitted with feature names\n",
      "  warnings.warn(\n"
     ]
    }
   ],
   "source": [
    "random_number = random.randint(0, len(data))\n",
    "test_customer = data.drop('loan_repaid', axis=1).iloc[random_number]\n",
    "test_customer = scaler.transform(test_customer.values.reshape(1, 78))"
   ]
  },
  {
   "cell_type": "code",
   "execution_count": 144,
   "id": "e90f2b33",
   "metadata": {},
   "outputs": [
    {
     "data": {
      "text/plain": [
       "1.0"
      ]
     },
     "execution_count": 144,
     "metadata": {},
     "output_type": "execute_result"
    }
   ],
   "source": [
    "data.iloc[random_number]['loan_repaid']"
   ]
  },
  {
   "cell_type": "code",
   "execution_count": 145,
   "id": "237daf4e",
   "metadata": {},
   "outputs": [
    {
     "name": "stdout",
     "output_type": "stream",
     "text": [
      "1/1 [==============================] - 0s 48ms/step\n"
     ]
    },
    {
     "data": {
      "text/plain": [
       "[1]"
      ]
     },
     "execution_count": 145,
     "metadata": {},
     "output_type": "execute_result"
    }
   ],
   "source": [
    "[1 if model.predict(test_customer) > 0.5 else 0]"
   ]
  }
 ],
 "metadata": {
  "kernelspec": {
   "display_name": "Python 3 (ipykernel)",
   "language": "python",
   "name": "python3"
  },
  "language_info": {
   "codemirror_mode": {
    "name": "ipython",
    "version": 3
   },
   "file_extension": ".py",
   "mimetype": "text/x-python",
   "name": "python",
   "nbconvert_exporter": "python",
   "pygments_lexer": "ipython3",
   "version": "3.9.13"
  }
 },
 "nbformat": 4,
 "nbformat_minor": 5
}
